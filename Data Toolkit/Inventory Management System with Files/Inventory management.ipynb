{
 "cells": [
  {
   "cell_type": "code",
   "execution_count": 11,
   "id": "dd3ca129-5b4c-4d9f-b9d7-b6b5b06a3285",
   "metadata": {},
   "outputs": [],
   "source": [
    "fd = open('Inventory.txt','w')\n",
    "\n",
    "fd.close()"
   ]
  },
  {
   "cell_type": "code",
   "execution_count": 39,
   "id": "f641bc35-2592-4dfe-9e2d-84bb3786ad2d",
   "metadata": {},
   "outputs": [
    {
     "name": "stdout",
     "output_type": "stream",
     "text": [
      "['1,5 star,5,100', '2,Milky Bar,5,100', '3,Chocolate Cake,4,80', '4,Strawberry Ice Cream,4,90', '5,Blueberry Muffin,4,85', '6,Cheeseburger,3,70', '7,Pepperoni Pizza,4,95', '8,Chicken Salad,3,75', '9,Apple Pie,5,90', '10,Chocolate Chip Cookie,5,85']\n"
     ]
    }
   ],
   "source": [
    "fd = open('Inventory.txt','r')\n",
    "\n",
    "txt = fd.read().split('\\n')\n",
    "print(txt)\n",
    "\n",
    "fd.close()"
   ]
  },
  {
   "cell_type": "code",
   "execution_count": 40,
   "id": "f1f4dcbf-bcad-4a06-8aca-a3f8437cffef",
   "metadata": {},
   "outputs": [
    {
     "name": "stdout",
     "output_type": "stream",
     "text": [
      "['85', '5', 'Chocolate Chip Cookie', '10']\n",
      "['90', '5', 'Apple Pie', '9']\n",
      "['75', '3', 'Chicken Salad', '8']\n",
      "['95', '4', 'Pepperoni Pizza', '7']\n",
      "['70', '3', 'Cheeseburger', '6']\n",
      "['85', '4', 'Blueberry Muffin', '5']\n",
      "['90', '4', 'Strawberry Ice Cream', '4']\n",
      "['80', '4', 'Chocolate Cake', '3']\n",
      "['100', '5', 'Milky Bar', '2']\n",
      "['100', '5', '5 star', '1']\n"
     ]
    }
   ],
   "source": [
    "for i in txt[::-1]:\n",
    "    # print(i)\n",
    "    print(i.split(',')[::-1])"
   ]
  },
  {
   "cell_type": "code",
   "execution_count": 41,
   "id": "3b4e8579-d1bd-464f-9479-178246bd0a58",
   "metadata": {},
   "outputs": [
    {
     "name": "stdout",
     "output_type": "stream",
     "text": [
      "1,5 star,5,100\n",
      "2,Milky Bar,5,100\n",
      "3,Chocolate Cake,4,80\n",
      "4,Strawberry Ice Cream,4,90\n",
      "5,Blueberry Muffin,4,85\n",
      "6,Cheeseburger,3,70\n",
      "7,Pepperoni Pizza,4,95\n",
      "8,Chicken Salad,3,75\n",
      "9,Apple Pie,5,90\n",
      "10,Chocolate Chip Cookie,5,85\n"
     ]
    }
   ],
   "source": [
    "for i in txt:\n",
    "    print(i)"
   ]
  },
  {
   "cell_type": "code",
   "execution_count": 46,
   "id": "5b76b886-2c06-464f-8322-d236baac98ff",
   "metadata": {},
   "outputs": [
    {
     "name": "stdin",
     "output_type": "stream",
     "text": [
      "Enter Product_ID : 2\n"
     ]
    },
    {
     "name": "stdout",
     "output_type": "stream",
     "text": [
      "2,Milky Bar,5,100\n"
     ]
    }
   ],
   "source": [
    "pid = input('Enter Product_ID :')\n",
    "for i in txt:\n",
    "    if i.split(',')[0] == pid:\n",
    "        print(i)"
   ]
  },
  {
   "cell_type": "code",
   "execution_count": 52,
   "id": "cc56618a-b17b-4c05-a99c-5e51b5ff8794",
   "metadata": {},
   "outputs": [
    {
     "name": "stdin",
     "output_type": "stream",
     "text": [
      "Enter P_ID :  2\n",
      "Enter Quantity :  4\n"
     ]
    },
    {
     "name": "stdout",
     "output_type": "stream",
     "text": [
      "------------------------------\n",
      "Product Name  : Milky Bar\n",
      "Price         : 5\n",
      "Quantity      : 4\n",
      "------------------------------\n",
      "Total Price   : 20\n"
     ]
    }
   ],
   "source": [
    "uid = input('Enter P_ID : ')\n",
    "uqt = input('Enter Quantity : ')\n",
    "\n",
    "for i in txt:\n",
    "    P_det = i.split(',')\n",
    "    if(P_det[0] == uid):\n",
    "        print('-'*30)\n",
    "        print('Product Name  :',P_det[1])\n",
    "        print('Price         :',P_det[2])\n",
    "        print('Quantity      :',uqt)\n",
    "        print('-'*30)\n",
    "        print('Total Price   :',int(P_det[2])*int(uqt))"
   ]
  },
  {
   "cell_type": "code",
   "execution_count": null,
   "id": "4df03bcd-926e-4f44-a221-16351fa8be44",
   "metadata": {},
   "outputs": [],
   "source": []
  }
 ],
 "metadata": {
  "kernelspec": {
   "display_name": "Python 3 (ipykernel)",
   "language": "python",
   "name": "python3"
  },
  "language_info": {
   "codemirror_mode": {
    "name": "ipython",
    "version": 3
   },
   "file_extension": ".py",
   "mimetype": "text/x-python",
   "name": "python",
   "nbconvert_exporter": "python",
   "pygments_lexer": "ipython3",
   "version": "3.12.1"
  },
  "widgets": {
   "application/vnd.jupyter.widget-state+json": {
    "state": {},
    "version_major": 2,
    "version_minor": 0
   }
  }
 },
 "nbformat": 4,
 "nbformat_minor": 5
}
