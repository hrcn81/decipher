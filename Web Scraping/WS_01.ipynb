{
  "nbformat": 4,
  "nbformat_minor": 0,
  "metadata": {
    "colab": {
      "provenance": [],
      "authorship_tag": "ABX9TyMtxwDohT7EkCzkwQFmg/d6",
      "include_colab_link": true
    },
    "kernelspec": {
      "name": "python3",
      "display_name": "Python 3"
    },
    "language_info": {
      "name": "python"
    }
  },
  "cells": [
    {
      "cell_type": "markdown",
      "metadata": {
        "id": "view-in-github",
        "colab_type": "text"
      },
      "source": [
        "<a href=\"https://colab.research.google.com/github/hrcn81/decipher/blob/main/Web%20Scraping/WS_01.ipynb\" target=\"_parent\"><img src=\"https://colab.research.google.com/assets/colab-badge.svg\" alt=\"Open In Colab\"/></a>"
      ]
    },
    {
      "cell_type": "code",
      "execution_count": 1,
      "metadata": {
        "id": "z5AyEcCR9RL_"
      },
      "outputs": [],
      "source": [
        "import requests"
      ]
    },
    {
      "cell_type": "code",
      "source": [
        "link = 'https://quotes.toscrape.com/'"
      ],
      "metadata": {
        "id": "BI_QcMq49X4e"
      },
      "execution_count": 2,
      "outputs": []
    },
    {
      "cell_type": "code",
      "source": [
        "res = requests.get(link)\n",
        "\n",
        "html = res.text"
      ],
      "metadata": {
        "id": "TIn6J-dH9a52"
      },
      "execution_count": 3,
      "outputs": []
    },
    {
      "cell_type": "code",
      "source": [
        "type(html)"
      ],
      "metadata": {
        "colab": {
          "base_uri": "https://localhost:8080/"
        },
        "id": "fIQ7a2cU9eJa",
        "outputId": "3f909f59-f267-4ab6-f963-e661588653ec"
      },
      "execution_count": 4,
      "outputs": [
        {
          "output_type": "execute_result",
          "data": {
            "text/plain": [
              "str"
            ]
          },
          "metadata": {},
          "execution_count": 4
        }
      ]
    },
    {
      "cell_type": "code",
      "source": [
        "fd = open('main.html','w')\n",
        "\n",
        "fd.write(html)\n",
        "\n",
        "fd.close()"
      ],
      "metadata": {
        "id": "a-XQcF7p9oVA"
      },
      "execution_count": 5,
      "outputs": []
    }
  ]
}