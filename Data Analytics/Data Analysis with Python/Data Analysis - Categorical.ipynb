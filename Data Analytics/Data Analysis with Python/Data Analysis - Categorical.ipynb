{
  "nbformat": 4,
  "nbformat_minor": 0,
  "metadata": {
    "colab": {
      "provenance": [],
      "mount_file_id": "1MhMheOXPc4lpu21c_kvTDgD241t7ReGj",
      "authorship_tag": "ABX9TyOmr4BWjs7hsHXAc6EYDlqP",
      "include_colab_link": true
    },
    "kernelspec": {
      "name": "python3",
      "display_name": "Python 3"
    },
    "language_info": {
      "name": "python"
    }
  },
  "cells": [
    {
      "cell_type": "markdown",
      "metadata": {
        "id": "view-in-github",
        "colab_type": "text"
      },
      "source": [
        "<a href=\"https://colab.research.google.com/github/hrcn81/decipher/blob/main/Data_Analysis_Categorical.ipynb\" target=\"_parent\"><img src=\"https://colab.research.google.com/assets/colab-badge.svg\" alt=\"Open In Colab\"/></a>"
      ]
    },
    {
      "cell_type": "code",
      "source": [
        "from google.colab import drive\n",
        "drive.mount('/content/drive')"
      ],
      "metadata": {
        "colab": {
          "base_uri": "https://localhost:8080/"
        },
        "id": "yjCsfgopLqee",
        "outputId": "3a7d3037-2315-4972-f5af-4455b061e14e"
      },
      "execution_count": 1,
      "outputs": [
        {
          "output_type": "stream",
          "name": "stdout",
          "text": [
            "Mounted at /content/drive\n"
          ]
        }
      ]
    },
    {
      "cell_type": "code",
      "source": [
        "import numpy as np\n",
        "import pandas as pd"
      ],
      "metadata": {
        "id": "SY46XvXKLrmz"
      },
      "execution_count": 2,
      "outputs": []
    },
    {
      "cell_type": "code",
      "source": [
        "df = pd.read_csv('/content/drive/MyDrive/Colab Notebooks/pandas/googleplaystore.csv').dropna()"
      ],
      "metadata": {
        "id": "4KWJRLmHMGLh"
      },
      "execution_count": 7,
      "outputs": []
    },
    {
      "cell_type": "code",
      "source": [
        "df.head(10)"
      ],
      "metadata": {
        "colab": {
          "base_uri": "https://localhost:8080/",
          "height": 727
        },
        "id": "WxL94XUKMMmm",
        "outputId": "af87c3a3-7fdb-4519-fa3d-0c7aca89fefe"
      },
      "execution_count": 8,
      "outputs": [
        {
          "output_type": "execute_result",
          "data": {
            "text/plain": [
              "                                                 App        Category  Rating  \\\n",
              "0     Photo Editor & Candy Camera & Grid & ScrapBook  ART_AND_DESIGN     4.1   \n",
              "1                                Coloring book moana  ART_AND_DESIGN     3.9   \n",
              "2  U Launcher Lite – FREE Live Cool Themes, Hide ...  ART_AND_DESIGN     4.7   \n",
              "3                              Sketch - Draw & Paint  ART_AND_DESIGN     4.5   \n",
              "4              Pixel Draw - Number Art Coloring Book  ART_AND_DESIGN     4.3   \n",
              "5                         Paper flowers instructions  ART_AND_DESIGN     4.4   \n",
              "6            Smoke Effect Photo Maker - Smoke Editor  ART_AND_DESIGN     3.8   \n",
              "7                                   Infinite Painter  ART_AND_DESIGN     4.1   \n",
              "8                               Garden Coloring Book  ART_AND_DESIGN     4.4   \n",
              "9                      Kids Paint Free - Drawing Fun  ART_AND_DESIGN     4.7   \n",
              "\n",
              "  Reviews  Size     Installs  Type Price Content Rating  \\\n",
              "0     159   19M      10,000+  Free     0       Everyone   \n",
              "1     967   14M     500,000+  Free     0       Everyone   \n",
              "2   87510  8.7M   5,000,000+  Free     0       Everyone   \n",
              "3  215644   25M  50,000,000+  Free     0           Teen   \n",
              "4     967  2.8M     100,000+  Free     0       Everyone   \n",
              "5     167  5.6M      50,000+  Free     0       Everyone   \n",
              "6     178   19M      50,000+  Free     0       Everyone   \n",
              "7   36815   29M   1,000,000+  Free     0       Everyone   \n",
              "8   13791   33M   1,000,000+  Free     0       Everyone   \n",
              "9     121  3.1M      10,000+  Free     0       Everyone   \n",
              "\n",
              "                      Genres        Last Updated         Current Ver  \\\n",
              "0               Art & Design     January 7, 2018               1.0.0   \n",
              "1  Art & Design;Pretend Play    January 15, 2018               2.0.0   \n",
              "2               Art & Design      August 1, 2018               1.2.4   \n",
              "3               Art & Design        June 8, 2018  Varies with device   \n",
              "4    Art & Design;Creativity       June 20, 2018                 1.1   \n",
              "5               Art & Design      March 26, 2017                 1.0   \n",
              "6               Art & Design      April 26, 2018                 1.1   \n",
              "7               Art & Design       June 14, 2018            6.1.61.1   \n",
              "8               Art & Design  September 20, 2017               2.9.2   \n",
              "9    Art & Design;Creativity        July 3, 2018                 2.8   \n",
              "\n",
              "    Android Ver  \n",
              "0  4.0.3 and up  \n",
              "1  4.0.3 and up  \n",
              "2  4.0.3 and up  \n",
              "3    4.2 and up  \n",
              "4    4.4 and up  \n",
              "5    2.3 and up  \n",
              "6  4.0.3 and up  \n",
              "7    4.2 and up  \n",
              "8    3.0 and up  \n",
              "9  4.0.3 and up  "
            ],
            "text/html": [
              "\n",
              "  <div id=\"df-424370e1-7ca7-4128-b310-e6297dae0c28\" class=\"colab-df-container\">\n",
              "    <div>\n",
              "<style scoped>\n",
              "    .dataframe tbody tr th:only-of-type {\n",
              "        vertical-align: middle;\n",
              "    }\n",
              "\n",
              "    .dataframe tbody tr th {\n",
              "        vertical-align: top;\n",
              "    }\n",
              "\n",
              "    .dataframe thead th {\n",
              "        text-align: right;\n",
              "    }\n",
              "</style>\n",
              "<table border=\"1\" class=\"dataframe\">\n",
              "  <thead>\n",
              "    <tr style=\"text-align: right;\">\n",
              "      <th></th>\n",
              "      <th>App</th>\n",
              "      <th>Category</th>\n",
              "      <th>Rating</th>\n",
              "      <th>Reviews</th>\n",
              "      <th>Size</th>\n",
              "      <th>Installs</th>\n",
              "      <th>Type</th>\n",
              "      <th>Price</th>\n",
              "      <th>Content Rating</th>\n",
              "      <th>Genres</th>\n",
              "      <th>Last Updated</th>\n",
              "      <th>Current Ver</th>\n",
              "      <th>Android Ver</th>\n",
              "    </tr>\n",
              "  </thead>\n",
              "  <tbody>\n",
              "    <tr>\n",
              "      <th>0</th>\n",
              "      <td>Photo Editor &amp; Candy Camera &amp; Grid &amp; ScrapBook</td>\n",
              "      <td>ART_AND_DESIGN</td>\n",
              "      <td>4.1</td>\n",
              "      <td>159</td>\n",
              "      <td>19M</td>\n",
              "      <td>10,000+</td>\n",
              "      <td>Free</td>\n",
              "      <td>0</td>\n",
              "      <td>Everyone</td>\n",
              "      <td>Art &amp; Design</td>\n",
              "      <td>January 7, 2018</td>\n",
              "      <td>1.0.0</td>\n",
              "      <td>4.0.3 and up</td>\n",
              "    </tr>\n",
              "    <tr>\n",
              "      <th>1</th>\n",
              "      <td>Coloring book moana</td>\n",
              "      <td>ART_AND_DESIGN</td>\n",
              "      <td>3.9</td>\n",
              "      <td>967</td>\n",
              "      <td>14M</td>\n",
              "      <td>500,000+</td>\n",
              "      <td>Free</td>\n",
              "      <td>0</td>\n",
              "      <td>Everyone</td>\n",
              "      <td>Art &amp; Design;Pretend Play</td>\n",
              "      <td>January 15, 2018</td>\n",
              "      <td>2.0.0</td>\n",
              "      <td>4.0.3 and up</td>\n",
              "    </tr>\n",
              "    <tr>\n",
              "      <th>2</th>\n",
              "      <td>U Launcher Lite – FREE Live Cool Themes, Hide ...</td>\n",
              "      <td>ART_AND_DESIGN</td>\n",
              "      <td>4.7</td>\n",
              "      <td>87510</td>\n",
              "      <td>8.7M</td>\n",
              "      <td>5,000,000+</td>\n",
              "      <td>Free</td>\n",
              "      <td>0</td>\n",
              "      <td>Everyone</td>\n",
              "      <td>Art &amp; Design</td>\n",
              "      <td>August 1, 2018</td>\n",
              "      <td>1.2.4</td>\n",
              "      <td>4.0.3 and up</td>\n",
              "    </tr>\n",
              "    <tr>\n",
              "      <th>3</th>\n",
              "      <td>Sketch - Draw &amp; Paint</td>\n",
              "      <td>ART_AND_DESIGN</td>\n",
              "      <td>4.5</td>\n",
              "      <td>215644</td>\n",
              "      <td>25M</td>\n",
              "      <td>50,000,000+</td>\n",
              "      <td>Free</td>\n",
              "      <td>0</td>\n",
              "      <td>Teen</td>\n",
              "      <td>Art &amp; Design</td>\n",
              "      <td>June 8, 2018</td>\n",
              "      <td>Varies with device</td>\n",
              "      <td>4.2 and up</td>\n",
              "    </tr>\n",
              "    <tr>\n",
              "      <th>4</th>\n",
              "      <td>Pixel Draw - Number Art Coloring Book</td>\n",
              "      <td>ART_AND_DESIGN</td>\n",
              "      <td>4.3</td>\n",
              "      <td>967</td>\n",
              "      <td>2.8M</td>\n",
              "      <td>100,000+</td>\n",
              "      <td>Free</td>\n",
              "      <td>0</td>\n",
              "      <td>Everyone</td>\n",
              "      <td>Art &amp; Design;Creativity</td>\n",
              "      <td>June 20, 2018</td>\n",
              "      <td>1.1</td>\n",
              "      <td>4.4 and up</td>\n",
              "    </tr>\n",
              "    <tr>\n",
              "      <th>5</th>\n",
              "      <td>Paper flowers instructions</td>\n",
              "      <td>ART_AND_DESIGN</td>\n",
              "      <td>4.4</td>\n",
              "      <td>167</td>\n",
              "      <td>5.6M</td>\n",
              "      <td>50,000+</td>\n",
              "      <td>Free</td>\n",
              "      <td>0</td>\n",
              "      <td>Everyone</td>\n",
              "      <td>Art &amp; Design</td>\n",
              "      <td>March 26, 2017</td>\n",
              "      <td>1.0</td>\n",
              "      <td>2.3 and up</td>\n",
              "    </tr>\n",
              "    <tr>\n",
              "      <th>6</th>\n",
              "      <td>Smoke Effect Photo Maker - Smoke Editor</td>\n",
              "      <td>ART_AND_DESIGN</td>\n",
              "      <td>3.8</td>\n",
              "      <td>178</td>\n",
              "      <td>19M</td>\n",
              "      <td>50,000+</td>\n",
              "      <td>Free</td>\n",
              "      <td>0</td>\n",
              "      <td>Everyone</td>\n",
              "      <td>Art &amp; Design</td>\n",
              "      <td>April 26, 2018</td>\n",
              "      <td>1.1</td>\n",
              "      <td>4.0.3 and up</td>\n",
              "    </tr>\n",
              "    <tr>\n",
              "      <th>7</th>\n",
              "      <td>Infinite Painter</td>\n",
              "      <td>ART_AND_DESIGN</td>\n",
              "      <td>4.1</td>\n",
              "      <td>36815</td>\n",
              "      <td>29M</td>\n",
              "      <td>1,000,000+</td>\n",
              "      <td>Free</td>\n",
              "      <td>0</td>\n",
              "      <td>Everyone</td>\n",
              "      <td>Art &amp; Design</td>\n",
              "      <td>June 14, 2018</td>\n",
              "      <td>6.1.61.1</td>\n",
              "      <td>4.2 and up</td>\n",
              "    </tr>\n",
              "    <tr>\n",
              "      <th>8</th>\n",
              "      <td>Garden Coloring Book</td>\n",
              "      <td>ART_AND_DESIGN</td>\n",
              "      <td>4.4</td>\n",
              "      <td>13791</td>\n",
              "      <td>33M</td>\n",
              "      <td>1,000,000+</td>\n",
              "      <td>Free</td>\n",
              "      <td>0</td>\n",
              "      <td>Everyone</td>\n",
              "      <td>Art &amp; Design</td>\n",
              "      <td>September 20, 2017</td>\n",
              "      <td>2.9.2</td>\n",
              "      <td>3.0 and up</td>\n",
              "    </tr>\n",
              "    <tr>\n",
              "      <th>9</th>\n",
              "      <td>Kids Paint Free - Drawing Fun</td>\n",
              "      <td>ART_AND_DESIGN</td>\n",
              "      <td>4.7</td>\n",
              "      <td>121</td>\n",
              "      <td>3.1M</td>\n",
              "      <td>10,000+</td>\n",
              "      <td>Free</td>\n",
              "      <td>0</td>\n",
              "      <td>Everyone</td>\n",
              "      <td>Art &amp; Design;Creativity</td>\n",
              "      <td>July 3, 2018</td>\n",
              "      <td>2.8</td>\n",
              "      <td>4.0.3 and up</td>\n",
              "    </tr>\n",
              "  </tbody>\n",
              "</table>\n",
              "</div>\n",
              "    <div class=\"colab-df-buttons\">\n",
              "\n",
              "  <div class=\"colab-df-container\">\n",
              "    <button class=\"colab-df-convert\" onclick=\"convertToInteractive('df-424370e1-7ca7-4128-b310-e6297dae0c28')\"\n",
              "            title=\"Convert this dataframe to an interactive table.\"\n",
              "            style=\"display:none;\">\n",
              "\n",
              "  <svg xmlns=\"http://www.w3.org/2000/svg\" height=\"24px\" viewBox=\"0 -960 960 960\">\n",
              "    <path d=\"M120-120v-720h720v720H120Zm60-500h600v-160H180v160Zm220 220h160v-160H400v160Zm0 220h160v-160H400v160ZM180-400h160v-160H180v160Zm440 0h160v-160H620v160ZM180-180h160v-160H180v160Zm440 0h160v-160H620v160Z\"/>\n",
              "  </svg>\n",
              "    </button>\n",
              "\n",
              "  <style>\n",
              "    .colab-df-container {\n",
              "      display:flex;\n",
              "      gap: 12px;\n",
              "    }\n",
              "\n",
              "    .colab-df-convert {\n",
              "      background-color: #E8F0FE;\n",
              "      border: none;\n",
              "      border-radius: 50%;\n",
              "      cursor: pointer;\n",
              "      display: none;\n",
              "      fill: #1967D2;\n",
              "      height: 32px;\n",
              "      padding: 0 0 0 0;\n",
              "      width: 32px;\n",
              "    }\n",
              "\n",
              "    .colab-df-convert:hover {\n",
              "      background-color: #E2EBFA;\n",
              "      box-shadow: 0px 1px 2px rgba(60, 64, 67, 0.3), 0px 1px 3px 1px rgba(60, 64, 67, 0.15);\n",
              "      fill: #174EA6;\n",
              "    }\n",
              "\n",
              "    .colab-df-buttons div {\n",
              "      margin-bottom: 4px;\n",
              "    }\n",
              "\n",
              "    [theme=dark] .colab-df-convert {\n",
              "      background-color: #3B4455;\n",
              "      fill: #D2E3FC;\n",
              "    }\n",
              "\n",
              "    [theme=dark] .colab-df-convert:hover {\n",
              "      background-color: #434B5C;\n",
              "      box-shadow: 0px 1px 3px 1px rgba(0, 0, 0, 0.15);\n",
              "      filter: drop-shadow(0px 1px 2px rgba(0, 0, 0, 0.3));\n",
              "      fill: #FFFFFF;\n",
              "    }\n",
              "  </style>\n",
              "\n",
              "    <script>\n",
              "      const buttonEl =\n",
              "        document.querySelector('#df-424370e1-7ca7-4128-b310-e6297dae0c28 button.colab-df-convert');\n",
              "      buttonEl.style.display =\n",
              "        google.colab.kernel.accessAllowed ? 'block' : 'none';\n",
              "\n",
              "      async function convertToInteractive(key) {\n",
              "        const element = document.querySelector('#df-424370e1-7ca7-4128-b310-e6297dae0c28');\n",
              "        const dataTable =\n",
              "          await google.colab.kernel.invokeFunction('convertToInteractive',\n",
              "                                                    [key], {});\n",
              "        if (!dataTable) return;\n",
              "\n",
              "        const docLinkHtml = 'Like what you see? Visit the ' +\n",
              "          '<a target=\"_blank\" href=https://colab.research.google.com/notebooks/data_table.ipynb>data table notebook</a>'\n",
              "          + ' to learn more about interactive tables.';\n",
              "        element.innerHTML = '';\n",
              "        dataTable['output_type'] = 'display_data';\n",
              "        await google.colab.output.renderOutput(dataTable, element);\n",
              "        const docLink = document.createElement('div');\n",
              "        docLink.innerHTML = docLinkHtml;\n",
              "        element.appendChild(docLink);\n",
              "      }\n",
              "    </script>\n",
              "  </div>\n",
              "\n",
              "\n",
              "<div id=\"df-84486b91-bbcb-44bc-a75d-c7c58449f7ab\">\n",
              "  <button class=\"colab-df-quickchart\" onclick=\"quickchart('df-84486b91-bbcb-44bc-a75d-c7c58449f7ab')\"\n",
              "            title=\"Suggest charts\"\n",
              "            style=\"display:none;\">\n",
              "\n",
              "<svg xmlns=\"http://www.w3.org/2000/svg\" height=\"24px\"viewBox=\"0 0 24 24\"\n",
              "     width=\"24px\">\n",
              "    <g>\n",
              "        <path d=\"M19 3H5c-1.1 0-2 .9-2 2v14c0 1.1.9 2 2 2h14c1.1 0 2-.9 2-2V5c0-1.1-.9-2-2-2zM9 17H7v-7h2v7zm4 0h-2V7h2v10zm4 0h-2v-4h2v4z\"/>\n",
              "    </g>\n",
              "</svg>\n",
              "  </button>\n",
              "\n",
              "<style>\n",
              "  .colab-df-quickchart {\n",
              "      --bg-color: #E8F0FE;\n",
              "      --fill-color: #1967D2;\n",
              "      --hover-bg-color: #E2EBFA;\n",
              "      --hover-fill-color: #174EA6;\n",
              "      --disabled-fill-color: #AAA;\n",
              "      --disabled-bg-color: #DDD;\n",
              "  }\n",
              "\n",
              "  [theme=dark] .colab-df-quickchart {\n",
              "      --bg-color: #3B4455;\n",
              "      --fill-color: #D2E3FC;\n",
              "      --hover-bg-color: #434B5C;\n",
              "      --hover-fill-color: #FFFFFF;\n",
              "      --disabled-bg-color: #3B4455;\n",
              "      --disabled-fill-color: #666;\n",
              "  }\n",
              "\n",
              "  .colab-df-quickchart {\n",
              "    background-color: var(--bg-color);\n",
              "    border: none;\n",
              "    border-radius: 50%;\n",
              "    cursor: pointer;\n",
              "    display: none;\n",
              "    fill: var(--fill-color);\n",
              "    height: 32px;\n",
              "    padding: 0;\n",
              "    width: 32px;\n",
              "  }\n",
              "\n",
              "  .colab-df-quickchart:hover {\n",
              "    background-color: var(--hover-bg-color);\n",
              "    box-shadow: 0 1px 2px rgba(60, 64, 67, 0.3), 0 1px 3px 1px rgba(60, 64, 67, 0.15);\n",
              "    fill: var(--button-hover-fill-color);\n",
              "  }\n",
              "\n",
              "  .colab-df-quickchart-complete:disabled,\n",
              "  .colab-df-quickchart-complete:disabled:hover {\n",
              "    background-color: var(--disabled-bg-color);\n",
              "    fill: var(--disabled-fill-color);\n",
              "    box-shadow: none;\n",
              "  }\n",
              "\n",
              "  .colab-df-spinner {\n",
              "    border: 2px solid var(--fill-color);\n",
              "    border-color: transparent;\n",
              "    border-bottom-color: var(--fill-color);\n",
              "    animation:\n",
              "      spin 1s steps(1) infinite;\n",
              "  }\n",
              "\n",
              "  @keyframes spin {\n",
              "    0% {\n",
              "      border-color: transparent;\n",
              "      border-bottom-color: var(--fill-color);\n",
              "      border-left-color: var(--fill-color);\n",
              "    }\n",
              "    20% {\n",
              "      border-color: transparent;\n",
              "      border-left-color: var(--fill-color);\n",
              "      border-top-color: var(--fill-color);\n",
              "    }\n",
              "    30% {\n",
              "      border-color: transparent;\n",
              "      border-left-color: var(--fill-color);\n",
              "      border-top-color: var(--fill-color);\n",
              "      border-right-color: var(--fill-color);\n",
              "    }\n",
              "    40% {\n",
              "      border-color: transparent;\n",
              "      border-right-color: var(--fill-color);\n",
              "      border-top-color: var(--fill-color);\n",
              "    }\n",
              "    60% {\n",
              "      border-color: transparent;\n",
              "      border-right-color: var(--fill-color);\n",
              "    }\n",
              "    80% {\n",
              "      border-color: transparent;\n",
              "      border-right-color: var(--fill-color);\n",
              "      border-bottom-color: var(--fill-color);\n",
              "    }\n",
              "    90% {\n",
              "      border-color: transparent;\n",
              "      border-bottom-color: var(--fill-color);\n",
              "    }\n",
              "  }\n",
              "</style>\n",
              "\n",
              "  <script>\n",
              "    async function quickchart(key) {\n",
              "      const quickchartButtonEl =\n",
              "        document.querySelector('#' + key + ' button');\n",
              "      quickchartButtonEl.disabled = true;  // To prevent multiple clicks.\n",
              "      quickchartButtonEl.classList.add('colab-df-spinner');\n",
              "      try {\n",
              "        const charts = await google.colab.kernel.invokeFunction(\n",
              "            'suggestCharts', [key], {});\n",
              "      } catch (error) {\n",
              "        console.error('Error during call to suggestCharts:', error);\n",
              "      }\n",
              "      quickchartButtonEl.classList.remove('colab-df-spinner');\n",
              "      quickchartButtonEl.classList.add('colab-df-quickchart-complete');\n",
              "    }\n",
              "    (() => {\n",
              "      let quickchartButtonEl =\n",
              "        document.querySelector('#df-84486b91-bbcb-44bc-a75d-c7c58449f7ab button');\n",
              "      quickchartButtonEl.style.display =\n",
              "        google.colab.kernel.accessAllowed ? 'block' : 'none';\n",
              "    })();\n",
              "  </script>\n",
              "</div>\n",
              "\n",
              "    </div>\n",
              "  </div>\n"
            ],
            "application/vnd.google.colaboratory.intrinsic+json": {
              "type": "dataframe",
              "variable_name": "df",
              "summary": "{\n  \"name\": \"df\",\n  \"rows\": 9360,\n  \"fields\": [\n    {\n      \"column\": \"App\",\n      \"properties\": {\n        \"dtype\": \"string\",\n        \"num_unique_values\": 8190,\n        \"samples\": [\n          \"Blur Image Background\",\n          \"Jenga\\u00ae AR\",\n          \"Service Disabler\"\n        ],\n        \"semantic_type\": \"\",\n        \"description\": \"\"\n      }\n    },\n    {\n      \"column\": \"Category\",\n      \"properties\": {\n        \"dtype\": \"category\",\n        \"num_unique_values\": 33,\n        \"samples\": [\n          \"NEWS_AND_MAGAZINES\",\n          \"LIBRARIES_AND_DEMO\",\n          \"PERSONALIZATION\"\n        ],\n        \"semantic_type\": \"\",\n        \"description\": \"\"\n      }\n    },\n    {\n      \"column\": \"Rating\",\n      \"properties\": {\n        \"dtype\": \"number\",\n        \"std\": 0.5152629700664094,\n        \"min\": 1.0,\n        \"max\": 5.0,\n        \"num_unique_values\": 39,\n        \"samples\": [\n          2.4,\n          1.4,\n          4.3\n        ],\n        \"semantic_type\": \"\",\n        \"description\": \"\"\n      }\n    },\n    {\n      \"column\": \"Reviews\",\n      \"properties\": {\n        \"dtype\": \"string\",\n        \"num_unique_values\": 5990,\n        \"samples\": [\n          \"9400\",\n          \"1688\",\n          \"171\"\n        ],\n        \"semantic_type\": \"\",\n        \"description\": \"\"\n      }\n    },\n    {\n      \"column\": \"Size\",\n      \"properties\": {\n        \"dtype\": \"category\",\n        \"num_unique_values\": 413,\n        \"samples\": [\n          \"246k\",\n          \"629k\",\n          \"404k\"\n        ],\n        \"semantic_type\": \"\",\n        \"description\": \"\"\n      }\n    },\n    {\n      \"column\": \"Installs\",\n      \"properties\": {\n        \"dtype\": \"category\",\n        \"num_unique_values\": 19,\n        \"samples\": [\n          \"10,000+\",\n          \"50,000+\",\n          \"1,000+\"\n        ],\n        \"semantic_type\": \"\",\n        \"description\": \"\"\n      }\n    },\n    {\n      \"column\": \"Type\",\n      \"properties\": {\n        \"dtype\": \"category\",\n        \"num_unique_values\": 2,\n        \"samples\": [\n          \"Paid\",\n          \"Free\"\n        ],\n        \"semantic_type\": \"\",\n        \"description\": \"\"\n      }\n    },\n    {\n      \"column\": \"Price\",\n      \"properties\": {\n        \"dtype\": \"category\",\n        \"num_unique_values\": 73,\n        \"samples\": [\n          \"$7.99\",\n          \"$13.99\"\n        ],\n        \"semantic_type\": \"\",\n        \"description\": \"\"\n      }\n    },\n    {\n      \"column\": \"Content Rating\",\n      \"properties\": {\n        \"dtype\": \"category\",\n        \"num_unique_values\": 6,\n        \"samples\": [\n          \"Everyone\",\n          \"Teen\"\n        ],\n        \"semantic_type\": \"\",\n        \"description\": \"\"\n      }\n    },\n    {\n      \"column\": \"Genres\",\n      \"properties\": {\n        \"dtype\": \"category\",\n        \"num_unique_values\": 115,\n        \"samples\": [\n          \"Entertainment;Pretend Play\",\n          \"Beauty\"\n        ],\n        \"semantic_type\": \"\",\n        \"description\": \"\"\n      }\n    },\n    {\n      \"column\": \"Last Updated\",\n      \"properties\": {\n        \"dtype\": \"object\",\n        \"num_unique_values\": 1299,\n        \"samples\": [\n          \"October 12, 2011\",\n          \"October 7, 2016\"\n        ],\n        \"semantic_type\": \"\",\n        \"description\": \"\"\n      }\n    },\n    {\n      \"column\": \"Current Ver\",\n      \"properties\": {\n        \"dtype\": \"category\",\n        \"num_unique_values\": 2638,\n        \"samples\": [\n          \"1.0.2.1\",\n          \"4.0.7\"\n        ],\n        \"semantic_type\": \"\",\n        \"description\": \"\"\n      }\n    },\n    {\n      \"column\": \"Android Ver\",\n      \"properties\": {\n        \"dtype\": \"category\",\n        \"num_unique_values\": 31,\n        \"samples\": [\n          \"2.0.1 and up\",\n          \"7.0 and up\"\n        ],\n        \"semantic_type\": \"\",\n        \"description\": \"\"\n      }\n    }\n  ]\n}"
            }
          },
          "metadata": {},
          "execution_count": 8
        }
      ]
    },
    {
      "cell_type": "code",
      "source": [
        "df.shape"
      ],
      "metadata": {
        "colab": {
          "base_uri": "https://localhost:8080/"
        },
        "id": "kH4ehZO8MP6p",
        "outputId": "28a85ef7-ee9b-4da2-ae2b-068dde26981f"
      },
      "execution_count": 9,
      "outputs": [
        {
          "output_type": "execute_result",
          "data": {
            "text/plain": [
              "(9360, 13)"
            ]
          },
          "metadata": {},
          "execution_count": 9
        }
      ]
    },
    {
      "cell_type": "code",
      "source": [
        "df.size"
      ],
      "metadata": {
        "colab": {
          "base_uri": "https://localhost:8080/"
        },
        "id": "UrftRdx9MRNb",
        "outputId": "6f6e29e2-2829-4725-fadc-5b6c9819c602"
      },
      "execution_count": 10,
      "outputs": [
        {
          "output_type": "execute_result",
          "data": {
            "text/plain": [
              "121680"
            ]
          },
          "metadata": {},
          "execution_count": 10
        }
      ]
    },
    {
      "cell_type": "code",
      "source": [
        "df.columns"
      ],
      "metadata": {
        "colab": {
          "base_uri": "https://localhost:8080/"
        },
        "id": "ePFLA2lPMwrt",
        "outputId": "98fc120c-bd9b-43bc-f428-9bcf1259aaea"
      },
      "execution_count": 15,
      "outputs": [
        {
          "output_type": "execute_result",
          "data": {
            "text/plain": [
              "Index(['App', 'Category', 'Rating', 'Reviews', 'Size', 'Installs', 'Type',\n",
              "       'Price', 'Content Rating', 'Genres', 'Last Updated', 'Current Ver',\n",
              "       'Android Ver'],\n",
              "      dtype='object')"
            ]
          },
          "metadata": {},
          "execution_count": 15
        }
      ]
    },
    {
      "cell_type": "code",
      "source": [
        "n = 1\n",
        "for i in df.columns:\n",
        "  print(n,i)\n",
        "  n += 1"
      ],
      "metadata": {
        "colab": {
          "base_uri": "https://localhost:8080/"
        },
        "id": "HjFPkO_bMyKN",
        "outputId": "ed097094-99d5-4412-e66f-472228c5043e"
      },
      "execution_count": 16,
      "outputs": [
        {
          "output_type": "stream",
          "name": "stdout",
          "text": [
            "1 App\n",
            "2 Category\n",
            "3 Rating\n",
            "4 Reviews\n",
            "5 Size\n",
            "6 Installs\n",
            "7 Type\n",
            "8 Price\n",
            "9 Content Rating\n",
            "10 Genres\n",
            "11 Last Updated\n",
            "12 Current Ver\n",
            "13 Android Ver\n"
          ]
        }
      ]
    },
    {
      "cell_type": "markdown",
      "source": [
        "# Q.1 | Total number of categories"
      ],
      "metadata": {
        "id": "6ZmeLDThNy5s"
      }
    },
    {
      "cell_type": "code",
      "source": [
        "print('.unique() : ',df['Category'].unique())\n",
        "print('\\n.size  : ',df['Category'].unique().size)\n",
        "print('\\n.shape : ',df['Category'].unique().shape)\n",
        "print('\\nlen()  : ',len(df['Category'].unique()))"
      ],
      "metadata": {
        "colab": {
          "base_uri": "https://localhost:8080/"
        },
        "id": "dE6B2c5XMsL2",
        "outputId": "bf60ac32-8726-42da-9d7b-cc1b803d2df3"
      },
      "execution_count": 28,
      "outputs": [
        {
          "output_type": "stream",
          "name": "stdout",
          "text": [
            ".unique() :  ['ART_AND_DESIGN' 'AUTO_AND_VEHICLES' 'BEAUTY' 'BOOKS_AND_REFERENCE'\n",
            " 'BUSINESS' 'COMICS' 'COMMUNICATION' 'DATING' 'EDUCATION' 'ENTERTAINMENT'\n",
            " 'EVENTS' 'FINANCE' 'FOOD_AND_DRINK' 'HEALTH_AND_FITNESS' 'HOUSE_AND_HOME'\n",
            " 'LIBRARIES_AND_DEMO' 'LIFESTYLE' 'GAME' 'FAMILY' 'MEDICAL' 'SOCIAL'\n",
            " 'SHOPPING' 'PHOTOGRAPHY' 'SPORTS' 'TRAVEL_AND_LOCAL' 'TOOLS'\n",
            " 'PERSONALIZATION' 'PRODUCTIVITY' 'PARENTING' 'WEATHER' 'VIDEO_PLAYERS'\n",
            " 'NEWS_AND_MAGAZINES' 'MAPS_AND_NAVIGATION']\n",
            "\n",
            ".size  :  33\n",
            "\n",
            ".shape :  (33,)\n",
            "\n",
            "len()  :  33\n"
          ]
        }
      ]
    },
    {
      "cell_type": "code",
      "source": [
        "m = 1\n",
        "for i in df['Category'].unique():\n",
        "  print(m,i)\n",
        "  m += 1"
      ],
      "metadata": {
        "colab": {
          "base_uri": "https://localhost:8080/"
        },
        "id": "WB02KpiSMTBo",
        "outputId": "f229bdbc-43d7-4956-8695-32176cda8037"
      },
      "execution_count": 13,
      "outputs": [
        {
          "output_type": "stream",
          "name": "stdout",
          "text": [
            "1 ART_AND_DESIGN\n",
            "2 AUTO_AND_VEHICLES\n",
            "3 BEAUTY\n",
            "4 BOOKS_AND_REFERENCE\n",
            "5 BUSINESS\n",
            "6 COMICS\n",
            "7 COMMUNICATION\n",
            "8 DATING\n",
            "9 EDUCATION\n",
            "10 ENTERTAINMENT\n",
            "11 EVENTS\n",
            "12 FINANCE\n",
            "13 FOOD_AND_DRINK\n",
            "14 HEALTH_AND_FITNESS\n",
            "15 HOUSE_AND_HOME\n",
            "16 LIBRARIES_AND_DEMO\n",
            "17 LIFESTYLE\n",
            "18 GAME\n",
            "19 FAMILY\n",
            "20 MEDICAL\n",
            "21 SOCIAL\n",
            "22 SHOPPING\n",
            "23 PHOTOGRAPHY\n",
            "24 SPORTS\n",
            "25 TRAVEL_AND_LOCAL\n",
            "26 TOOLS\n",
            "27 PERSONALIZATION\n",
            "28 PRODUCTIVITY\n",
            "29 PARENTING\n",
            "30 WEATHER\n",
            "31 VIDEO_PLAYERS\n",
            "32 NEWS_AND_MAGAZINES\n",
            "33 MAPS_AND_NAVIGATION\n"
          ]
        }
      ]
    },
    {
      "cell_type": "markdown",
      "source": [
        "# Q.2 | Total App in particular category"
      ],
      "metadata": {
        "id": "hxBRYNtBQPtd"
      }
    },
    {
      "cell_type": "code",
      "source": [
        "c = 0\n",
        "for i in df['Category']:\n",
        "  if i == 'ART_AND_DESIGN':\n",
        "    c += 1\n",
        "print(f'There are Totoal {c} ART_AND_DESIGN.')"
      ],
      "metadata": {
        "colab": {
          "base_uri": "https://localhost:8080/"
        },
        "id": "FZzbzTKOMj9o",
        "outputId": "f11c6a32-7b7b-4a42-b1b5-e796cb0b70ba"
      },
      "execution_count": 32,
      "outputs": [
        {
          "output_type": "stream",
          "name": "stdout",
          "text": [
            "There are Totoal 61 ART_AND_DESIGN.\n"
          ]
        }
      ]
    },
    {
      "cell_type": "code",
      "source": [
        "print(df.loc[df['Category'] == 'ART_AND_DESIGN', 'App'].shape)\n",
        "print(df.loc[df['Category'] == 'ART_AND_DESIGN', 'App'].size)\n",
        "print(len(df.loc[df['Category'] == 'ART_AND_DESIGN', 'App']))"
      ],
      "metadata": {
        "colab": {
          "base_uri": "https://localhost:8080/"
        },
        "id": "jo2lAqo2OgXp",
        "outputId": "6c48c7de-743b-4fb4-bd26-b255dd204516"
      },
      "execution_count": 55,
      "outputs": [
        {
          "output_type": "stream",
          "name": "stdout",
          "text": [
            "(61,)\n",
            "61\n",
            "61\n"
          ]
        }
      ]
    },
    {
      "cell_type": "code",
      "source": [
        "v = 0\n",
        "for i in df['Category'].unique():\n",
        "  v += 1\n",
        "  print(v,i)"
      ],
      "metadata": {
        "colab": {
          "base_uri": "https://localhost:8080/"
        },
        "id": "eCyOUsE1PUVi",
        "outputId": "c4c91fa5-4493-4e94-9adf-30ac1d5d70fc"
      },
      "execution_count": 43,
      "outputs": [
        {
          "output_type": "stream",
          "name": "stdout",
          "text": [
            "1 ART_AND_DESIGN\n",
            "2 AUTO_AND_VEHICLES\n",
            "3 BEAUTY\n",
            "4 BOOKS_AND_REFERENCE\n",
            "5 BUSINESS\n",
            "6 COMICS\n",
            "7 COMMUNICATION\n",
            "8 DATING\n",
            "9 EDUCATION\n",
            "10 ENTERTAINMENT\n",
            "11 EVENTS\n",
            "12 FINANCE\n",
            "13 FOOD_AND_DRINK\n",
            "14 HEALTH_AND_FITNESS\n",
            "15 HOUSE_AND_HOME\n",
            "16 LIBRARIES_AND_DEMO\n",
            "17 LIFESTYLE\n",
            "18 GAME\n",
            "19 FAMILY\n",
            "20 MEDICAL\n",
            "21 SOCIAL\n",
            "22 SHOPPING\n",
            "23 PHOTOGRAPHY\n",
            "24 SPORTS\n",
            "25 TRAVEL_AND_LOCAL\n",
            "26 TOOLS\n",
            "27 PERSONALIZATION\n",
            "28 PRODUCTIVITY\n",
            "29 PARENTING\n",
            "30 WEATHER\n",
            "31 VIDEO_PLAYERS\n",
            "32 NEWS_AND_MAGAZINES\n",
            "33 MAPS_AND_NAVIGATION\n"
          ]
        }
      ]
    },
    {
      "cell_type": "code",
      "source": [
        "df.columns"
      ],
      "metadata": {
        "colab": {
          "base_uri": "https://localhost:8080/"
        },
        "id": "2kYIotSCPXKJ",
        "outputId": "736023fa-52ff-4f90-c575-dce60d6d2e3c"
      },
      "execution_count": 57,
      "outputs": [
        {
          "output_type": "execute_result",
          "data": {
            "text/plain": [
              "Index(['App', 'Category', 'Rating', 'Reviews', 'Size', 'Installs', 'Type',\n",
              "       'Price', 'Content Rating', 'Genres', 'Last Updated', 'Current Ver',\n",
              "       'Android Ver'],\n",
              "      dtype='object')"
            ]
          },
          "metadata": {},
          "execution_count": 57
        }
      ]
    },
    {
      "cell_type": "markdown",
      "source": [
        "# Q.3 | Total No. of Types"
      ],
      "metadata": {
        "id": "dDVB_R2-Vv-V"
      }
    },
    {
      "cell_type": "code",
      "source": [
        "df['Type'].unique()"
      ],
      "metadata": {
        "colab": {
          "base_uri": "https://localhost:8080/"
        },
        "id": "G3vTl_3PSQnE",
        "outputId": "1031a47a-4e19-4661-9f56-f1a20adfc489"
      },
      "execution_count": 60,
      "outputs": [
        {
          "output_type": "execute_result",
          "data": {
            "text/plain": [
              "array(['Free', 'Paid'], dtype=object)"
            ]
          },
          "metadata": {},
          "execution_count": 60
        }
      ]
    },
    {
      "cell_type": "code",
      "source": [
        "x = 0\n",
        "for i in df['Type'].unique():\n",
        "  x += 1\n",
        "  print(x,i)"
      ],
      "metadata": {
        "colab": {
          "base_uri": "https://localhost:8080/"
        },
        "id": "qM6KOZqoQ7w9",
        "outputId": "699a09b7-5d58-43b3-deab-33fe099c741a"
      },
      "execution_count": 59,
      "outputs": [
        {
          "output_type": "stream",
          "name": "stdout",
          "text": [
            "1 Free\n",
            "2 Paid\n"
          ]
        }
      ]
    },
    {
      "cell_type": "markdown",
      "source": [
        "# Q.4 | Totoal No. of Paid and Free App"
      ],
      "metadata": {
        "id": "y_EFNeffV5QW"
      }
    },
    {
      "cell_type": "code",
      "source": [
        "f = 0\n",
        "for i in df['Type']:\n",
        "  if (i == 'Free'):\n",
        "    f += 1\n",
        "print(f\"There're {f} Free App\")\n",
        "\n",
        "f1 = 0\n",
        "for i in df['Type']:\n",
        "  if (i == 'Paid'):\n",
        "    f1 += 1\n",
        "print(f\"There're {f1} Paid App\")"
      ],
      "metadata": {
        "colab": {
          "base_uri": "https://localhost:8080/"
        },
        "id": "2DKmCYUyQ_0B",
        "outputId": "232de8a6-11c9-4e41-d754-8bfd1b669526"
      },
      "execution_count": 67,
      "outputs": [
        {
          "output_type": "stream",
          "name": "stdout",
          "text": [
            "There're 8715 Free App\n",
            "There're 645 Paid App\n"
          ]
        }
      ]
    },
    {
      "cell_type": "code",
      "source": [
        "# Find paid counts\n",
        "len(df['Type']) - f"
      ],
      "metadata": {
        "colab": {
          "base_uri": "https://localhost:8080/"
        },
        "id": "id4dgPwmSa8K",
        "outputId": "3fb3b5c6-c6ae-46e5-dba4-e2c74c5a1ebc"
      },
      "execution_count": 64,
      "outputs": [
        {
          "output_type": "execute_result",
          "data": {
            "text/plain": [
              "645"
            ]
          },
          "metadata": {},
          "execution_count": 64
        }
      ]
    },
    {
      "cell_type": "markdown",
      "source": [
        "# Q.5 Percentage of Free,Paid App"
      ],
      "metadata": {
        "id": "FKMCsaP0WIod"
      }
    },
    {
      "cell_type": "code",
      "source": [
        "print(round(f/(f + f1)*100,1),'% are Free App')"
      ],
      "metadata": {
        "colab": {
          "base_uri": "https://localhost:8080/"
        },
        "id": "nHzzY5mwSqQI",
        "outputId": "54eb527d-f992-4e84-a37d-8f92824299c6"
      },
      "execution_count": 77,
      "outputs": [
        {
          "output_type": "stream",
          "name": "stdout",
          "text": [
            "93.1 % are Free App\n"
          ]
        }
      ]
    },
    {
      "cell_type": "code",
      "source": [
        "print(round(f1/(f + f1)*100,1),'% are Paid App')"
      ],
      "metadata": {
        "colab": {
          "base_uri": "https://localhost:8080/"
        },
        "id": "uTkdEGg9UA7A",
        "outputId": "fa59fb0f-f7e7-466f-c422-743f89a0f41b"
      },
      "execution_count": 78,
      "outputs": [
        {
          "output_type": "stream",
          "name": "stdout",
          "text": [
            "6.9 % are Paid App\n"
          ]
        }
      ]
    },
    {
      "cell_type": "markdown",
      "source": [
        "# Q.6 | name all content ratings"
      ],
      "metadata": {
        "id": "wGyYYlbFWWJ0"
      }
    },
    {
      "cell_type": "code",
      "source": [
        "df.columns"
      ],
      "metadata": {
        "colab": {
          "base_uri": "https://localhost:8080/"
        },
        "id": "PLh5bu3nUYLW",
        "outputId": "305ff511-22ab-45f1-b9f5-968af923de56"
      },
      "execution_count": 79,
      "outputs": [
        {
          "output_type": "execute_result",
          "data": {
            "text/plain": [
              "Index(['App', 'Category', 'Rating', 'Reviews', 'Size', 'Installs', 'Type',\n",
              "       'Price', 'Content Rating', 'Genres', 'Last Updated', 'Current Ver',\n",
              "       'Android Ver'],\n",
              "      dtype='object')"
            ]
          },
          "metadata": {},
          "execution_count": 79
        }
      ]
    },
    {
      "cell_type": "code",
      "source": [
        "df['Content Rating'].unique()"
      ],
      "metadata": {
        "colab": {
          "base_uri": "https://localhost:8080/"
        },
        "id": "DUCSRMk_WYCF",
        "outputId": "2e9ab1c8-33f2-4005-d37e-f887c595c20b"
      },
      "execution_count": 86,
      "outputs": [
        {
          "output_type": "execute_result",
          "data": {
            "text/plain": [
              "array(['Everyone', 'Teen', 'Everyone 10+', 'Mature 17+',\n",
              "       'Adults only 18+', 'Unrated'], dtype=object)"
            ]
          },
          "metadata": {},
          "execution_count": 86
        }
      ]
    },
    {
      "cell_type": "code",
      "source": [
        "cr = 0\n",
        "for i in df['Content Rating'].unique():\n",
        "  cr += 1\n",
        "  print(cr,i)"
      ],
      "metadata": {
        "colab": {
          "base_uri": "https://localhost:8080/"
        },
        "id": "k0pyoCtGWcPE",
        "outputId": "ac9bfe10-3c40-402f-f9d4-1248f90ac592"
      },
      "execution_count": 84,
      "outputs": [
        {
          "output_type": "stream",
          "name": "stdout",
          "text": [
            "1 Everyone\n",
            "2 Teen\n",
            "3 Everyone 10+\n",
            "4 Mature 17+\n",
            "5 Adults only 18+\n",
            "6 Unrated\n"
          ]
        }
      ]
    },
    {
      "cell_type": "code",
      "source": [
        "dcr = df['Content Rating']"
      ],
      "metadata": {
        "id": "7ETgVym9YOrt"
      },
      "execution_count": 95,
      "outputs": []
    },
    {
      "cell_type": "code",
      "source": [
        "len(dcr)"
      ],
      "metadata": {
        "colab": {
          "base_uri": "https://localhost:8080/"
        },
        "id": "P2ZMDARuY-H1",
        "outputId": "4551bd75-8123-4abf-f4b4-e90504c14426"
      },
      "execution_count": 102,
      "outputs": [
        {
          "output_type": "execute_result",
          "data": {
            "text/plain": [
              "9360"
            ]
          },
          "metadata": {},
          "execution_count": 102
        }
      ]
    },
    {
      "cell_type": "code",
      "source": [
        "e1 = 0\n",
        "for i in dcr:\n",
        "  if i == 'Everyone':\n",
        "    e1 += 1\n",
        "e1"
      ],
      "metadata": {
        "colab": {
          "base_uri": "https://localhost:8080/"
        },
        "id": "qp2zp2NSWoXF",
        "outputId": "cb7a1dca-adff-4f7e-bc41-c3ef38b50cf1"
      },
      "execution_count": 96,
      "outputs": [
        {
          "output_type": "execute_result",
          "data": {
            "text/plain": [
              "7414"
            ]
          },
          "metadata": {},
          "execution_count": 96
        }
      ]
    },
    {
      "cell_type": "code",
      "source": [
        "e2 = 0\n",
        "for i in dcr:\n",
        "  if i == 'Teen':\n",
        "    e2 += 1\n",
        "e2"
      ],
      "metadata": {
        "colab": {
          "base_uri": "https://localhost:8080/"
        },
        "id": "E_vHZAmnXhmY",
        "outputId": "09dcf15a-dd10-492d-9ff4-ae65ce2dc3a9"
      },
      "execution_count": 97,
      "outputs": [
        {
          "output_type": "execute_result",
          "data": {
            "text/plain": [
              "1084"
            ]
          },
          "metadata": {},
          "execution_count": 97
        }
      ]
    },
    {
      "cell_type": "code",
      "source": [
        "e3 = 0\n",
        "for i in dcr:\n",
        "  if i == 'Everyone 10+':\n",
        "    e3 += 1\n",
        "e3"
      ],
      "metadata": {
        "colab": {
          "base_uri": "https://localhost:8080/"
        },
        "id": "b3j1vLkjXrJC",
        "outputId": "71b67973-853f-47c3-9235-a6093bc51d4f"
      },
      "execution_count": 98,
      "outputs": [
        {
          "output_type": "execute_result",
          "data": {
            "text/plain": [
              "397"
            ]
          },
          "metadata": {},
          "execution_count": 98
        }
      ]
    },
    {
      "cell_type": "code",
      "source": [
        "'''\n",
        "4 Mature 17+\n",
        "5 Adults only 18+\n",
        "6 Unrated\n",
        "'''"
      ],
      "metadata": {
        "id": "q9CfxqgPYaMq"
      },
      "execution_count": null,
      "outputs": []
    },
    {
      "cell_type": "code",
      "source": [
        "e4 = 0\n",
        "for i in dcr:\n",
        "  if i == 'Mature 17+':\n",
        "    e4 += 1\n",
        "e4"
      ],
      "metadata": {
        "colab": {
          "base_uri": "https://localhost:8080/"
        },
        "id": "8kX6hsdyYio9",
        "outputId": "5a172cd5-9048-4e68-a972-b3cfdff70dc0"
      },
      "execution_count": 99,
      "outputs": [
        {
          "output_type": "execute_result",
          "data": {
            "text/plain": [
              "461"
            ]
          },
          "metadata": {},
          "execution_count": 99
        }
      ]
    },
    {
      "cell_type": "code",
      "source": [
        "e5 = 0\n",
        "for i in dcr:\n",
        "  if i == 'Adults only 18+':\n",
        "    e5 += 1\n",
        "e5"
      ],
      "metadata": {
        "colab": {
          "base_uri": "https://localhost:8080/"
        },
        "id": "4zY2lVVgYrND",
        "outputId": "ddef055b-fd52-4b7d-80df-8a8b44f36e38"
      },
      "execution_count": 100,
      "outputs": [
        {
          "output_type": "execute_result",
          "data": {
            "text/plain": [
              "3"
            ]
          },
          "metadata": {},
          "execution_count": 100
        }
      ]
    },
    {
      "cell_type": "code",
      "source": [
        "e6 = 0\n",
        "for i in dcr:\n",
        "  if i == 'Unrated':\n",
        "    e6 += 1\n",
        "e6"
      ],
      "metadata": {
        "colab": {
          "base_uri": "https://localhost:8080/"
        },
        "id": "Ts6faZeSYzCr",
        "outputId": "4a1e6819-d5a4-481c-d0aa-6ea0e6b45a4e"
      },
      "execution_count": 103,
      "outputs": [
        {
          "output_type": "execute_result",
          "data": {
            "text/plain": [
              "1"
            ]
          },
          "metadata": {},
          "execution_count": 103
        }
      ]
    },
    {
      "cell_type": "code",
      "source": [
        "df1 = pd.DataFrame([e1,e2,e3,e4,e5,e6],index = df['Content Rating'].unique(),columns = ['Your Counts'])\n",
        "\n",
        "df1"
      ],
      "metadata": {
        "colab": {
          "base_uri": "https://localhost:8080/",
          "height": 545
        },
        "id": "2bkqHZaWY5aE",
        "outputId": "53c9b201-c57c-49dc-81e3-4e6a90bdc442"
      },
      "execution_count": 120,
      "outputs": [
        {
          "output_type": "execute_result",
          "data": {
            "text/plain": [
              "                 Your Counts\n",
              "Everyone                7414\n",
              "Teen                    1084\n",
              "Everyone 10+             397\n",
              "Mature 17+               461\n",
              "Adults only 18+            3\n",
              "Unrated                    1"
            ],
            "text/html": [
              "\n",
              "  <div id=\"df-6b22a3f3-47a8-4d21-a5e0-5df976d388fb\" class=\"colab-df-container\">\n",
              "    <div>\n",
              "<style scoped>\n",
              "    .dataframe tbody tr th:only-of-type {\n",
              "        vertical-align: middle;\n",
              "    }\n",
              "\n",
              "    .dataframe tbody tr th {\n",
              "        vertical-align: top;\n",
              "    }\n",
              "\n",
              "    .dataframe thead th {\n",
              "        text-align: right;\n",
              "    }\n",
              "</style>\n",
              "<table border=\"1\" class=\"dataframe\">\n",
              "  <thead>\n",
              "    <tr style=\"text-align: right;\">\n",
              "      <th></th>\n",
              "      <th>Your Counts</th>\n",
              "    </tr>\n",
              "  </thead>\n",
              "  <tbody>\n",
              "    <tr>\n",
              "      <th>Everyone</th>\n",
              "      <td>7414</td>\n",
              "    </tr>\n",
              "    <tr>\n",
              "      <th>Teen</th>\n",
              "      <td>1084</td>\n",
              "    </tr>\n",
              "    <tr>\n",
              "      <th>Everyone 10+</th>\n",
              "      <td>397</td>\n",
              "    </tr>\n",
              "    <tr>\n",
              "      <th>Mature 17+</th>\n",
              "      <td>461</td>\n",
              "    </tr>\n",
              "    <tr>\n",
              "      <th>Adults only 18+</th>\n",
              "      <td>3</td>\n",
              "    </tr>\n",
              "    <tr>\n",
              "      <th>Unrated</th>\n",
              "      <td>1</td>\n",
              "    </tr>\n",
              "  </tbody>\n",
              "</table>\n",
              "</div>\n",
              "    <div class=\"colab-df-buttons\">\n",
              "\n",
              "  <div class=\"colab-df-container\">\n",
              "    <button class=\"colab-df-convert\" onclick=\"convertToInteractive('df-6b22a3f3-47a8-4d21-a5e0-5df976d388fb')\"\n",
              "            title=\"Convert this dataframe to an interactive table.\"\n",
              "            style=\"display:none;\">\n",
              "\n",
              "  <svg xmlns=\"http://www.w3.org/2000/svg\" height=\"24px\" viewBox=\"0 -960 960 960\">\n",
              "    <path d=\"M120-120v-720h720v720H120Zm60-500h600v-160H180v160Zm220 220h160v-160H400v160Zm0 220h160v-160H400v160ZM180-400h160v-160H180v160Zm440 0h160v-160H620v160ZM180-180h160v-160H180v160Zm440 0h160v-160H620v160Z\"/>\n",
              "  </svg>\n",
              "    </button>\n",
              "\n",
              "  <style>\n",
              "    .colab-df-container {\n",
              "      display:flex;\n",
              "      gap: 12px;\n",
              "    }\n",
              "\n",
              "    .colab-df-convert {\n",
              "      background-color: #E8F0FE;\n",
              "      border: none;\n",
              "      border-radius: 50%;\n",
              "      cursor: pointer;\n",
              "      display: none;\n",
              "      fill: #1967D2;\n",
              "      height: 32px;\n",
              "      padding: 0 0 0 0;\n",
              "      width: 32px;\n",
              "    }\n",
              "\n",
              "    .colab-df-convert:hover {\n",
              "      background-color: #E2EBFA;\n",
              "      box-shadow: 0px 1px 2px rgba(60, 64, 67, 0.3), 0px 1px 3px 1px rgba(60, 64, 67, 0.15);\n",
              "      fill: #174EA6;\n",
              "    }\n",
              "\n",
              "    .colab-df-buttons div {\n",
              "      margin-bottom: 4px;\n",
              "    }\n",
              "\n",
              "    [theme=dark] .colab-df-convert {\n",
              "      background-color: #3B4455;\n",
              "      fill: #D2E3FC;\n",
              "    }\n",
              "\n",
              "    [theme=dark] .colab-df-convert:hover {\n",
              "      background-color: #434B5C;\n",
              "      box-shadow: 0px 1px 3px 1px rgba(0, 0, 0, 0.15);\n",
              "      filter: drop-shadow(0px 1px 2px rgba(0, 0, 0, 0.3));\n",
              "      fill: #FFFFFF;\n",
              "    }\n",
              "  </style>\n",
              "\n",
              "    <script>\n",
              "      const buttonEl =\n",
              "        document.querySelector('#df-6b22a3f3-47a8-4d21-a5e0-5df976d388fb button.colab-df-convert');\n",
              "      buttonEl.style.display =\n",
              "        google.colab.kernel.accessAllowed ? 'block' : 'none';\n",
              "\n",
              "      async function convertToInteractive(key) {\n",
              "        const element = document.querySelector('#df-6b22a3f3-47a8-4d21-a5e0-5df976d388fb');\n",
              "        const dataTable =\n",
              "          await google.colab.kernel.invokeFunction('convertToInteractive',\n",
              "                                                    [key], {});\n",
              "        if (!dataTable) return;\n",
              "\n",
              "        const docLinkHtml = 'Like what you see? Visit the ' +\n",
              "          '<a target=\"_blank\" href=https://colab.research.google.com/notebooks/data_table.ipynb>data table notebook</a>'\n",
              "          + ' to learn more about interactive tables.';\n",
              "        element.innerHTML = '';\n",
              "        dataTable['output_type'] = 'display_data';\n",
              "        await google.colab.output.renderOutput(dataTable, element);\n",
              "        const docLink = document.createElement('div');\n",
              "        docLink.innerHTML = docLinkHtml;\n",
              "        element.appendChild(docLink);\n",
              "      }\n",
              "    </script>\n",
              "  </div>\n",
              "\n",
              "\n",
              "<div id=\"df-f8745a0d-454d-4364-a73f-adf52d2c7d1a\">\n",
              "  <button class=\"colab-df-quickchart\" onclick=\"quickchart('df-f8745a0d-454d-4364-a73f-adf52d2c7d1a')\"\n",
              "            title=\"Suggest charts\"\n",
              "            style=\"display:none;\">\n",
              "\n",
              "<svg xmlns=\"http://www.w3.org/2000/svg\" height=\"24px\"viewBox=\"0 0 24 24\"\n",
              "     width=\"24px\">\n",
              "    <g>\n",
              "        <path d=\"M19 3H5c-1.1 0-2 .9-2 2v14c0 1.1.9 2 2 2h14c1.1 0 2-.9 2-2V5c0-1.1-.9-2-2-2zM9 17H7v-7h2v7zm4 0h-2V7h2v10zm4 0h-2v-4h2v4z\"/>\n",
              "    </g>\n",
              "</svg>\n",
              "  </button>\n",
              "\n",
              "<style>\n",
              "  .colab-df-quickchart {\n",
              "      --bg-color: #E8F0FE;\n",
              "      --fill-color: #1967D2;\n",
              "      --hover-bg-color: #E2EBFA;\n",
              "      --hover-fill-color: #174EA6;\n",
              "      --disabled-fill-color: #AAA;\n",
              "      --disabled-bg-color: #DDD;\n",
              "  }\n",
              "\n",
              "  [theme=dark] .colab-df-quickchart {\n",
              "      --bg-color: #3B4455;\n",
              "      --fill-color: #D2E3FC;\n",
              "      --hover-bg-color: #434B5C;\n",
              "      --hover-fill-color: #FFFFFF;\n",
              "      --disabled-bg-color: #3B4455;\n",
              "      --disabled-fill-color: #666;\n",
              "  }\n",
              "\n",
              "  .colab-df-quickchart {\n",
              "    background-color: var(--bg-color);\n",
              "    border: none;\n",
              "    border-radius: 50%;\n",
              "    cursor: pointer;\n",
              "    display: none;\n",
              "    fill: var(--fill-color);\n",
              "    height: 32px;\n",
              "    padding: 0;\n",
              "    width: 32px;\n",
              "  }\n",
              "\n",
              "  .colab-df-quickchart:hover {\n",
              "    background-color: var(--hover-bg-color);\n",
              "    box-shadow: 0 1px 2px rgba(60, 64, 67, 0.3), 0 1px 3px 1px rgba(60, 64, 67, 0.15);\n",
              "    fill: var(--button-hover-fill-color);\n",
              "  }\n",
              "\n",
              "  .colab-df-quickchart-complete:disabled,\n",
              "  .colab-df-quickchart-complete:disabled:hover {\n",
              "    background-color: var(--disabled-bg-color);\n",
              "    fill: var(--disabled-fill-color);\n",
              "    box-shadow: none;\n",
              "  }\n",
              "\n",
              "  .colab-df-spinner {\n",
              "    border: 2px solid var(--fill-color);\n",
              "    border-color: transparent;\n",
              "    border-bottom-color: var(--fill-color);\n",
              "    animation:\n",
              "      spin 1s steps(1) infinite;\n",
              "  }\n",
              "\n",
              "  @keyframes spin {\n",
              "    0% {\n",
              "      border-color: transparent;\n",
              "      border-bottom-color: var(--fill-color);\n",
              "      border-left-color: var(--fill-color);\n",
              "    }\n",
              "    20% {\n",
              "      border-color: transparent;\n",
              "      border-left-color: var(--fill-color);\n",
              "      border-top-color: var(--fill-color);\n",
              "    }\n",
              "    30% {\n",
              "      border-color: transparent;\n",
              "      border-left-color: var(--fill-color);\n",
              "      border-top-color: var(--fill-color);\n",
              "      border-right-color: var(--fill-color);\n",
              "    }\n",
              "    40% {\n",
              "      border-color: transparent;\n",
              "      border-right-color: var(--fill-color);\n",
              "      border-top-color: var(--fill-color);\n",
              "    }\n",
              "    60% {\n",
              "      border-color: transparent;\n",
              "      border-right-color: var(--fill-color);\n",
              "    }\n",
              "    80% {\n",
              "      border-color: transparent;\n",
              "      border-right-color: var(--fill-color);\n",
              "      border-bottom-color: var(--fill-color);\n",
              "    }\n",
              "    90% {\n",
              "      border-color: transparent;\n",
              "      border-bottom-color: var(--fill-color);\n",
              "    }\n",
              "  }\n",
              "</style>\n",
              "\n",
              "  <script>\n",
              "    async function quickchart(key) {\n",
              "      const quickchartButtonEl =\n",
              "        document.querySelector('#' + key + ' button');\n",
              "      quickchartButtonEl.disabled = true;  // To prevent multiple clicks.\n",
              "      quickchartButtonEl.classList.add('colab-df-spinner');\n",
              "      try {\n",
              "        const charts = await google.colab.kernel.invokeFunction(\n",
              "            'suggestCharts', [key], {});\n",
              "      } catch (error) {\n",
              "        console.error('Error during call to suggestCharts:', error);\n",
              "      }\n",
              "      quickchartButtonEl.classList.remove('colab-df-spinner');\n",
              "      quickchartButtonEl.classList.add('colab-df-quickchart-complete');\n",
              "    }\n",
              "    (() => {\n",
              "      let quickchartButtonEl =\n",
              "        document.querySelector('#df-f8745a0d-454d-4364-a73f-adf52d2c7d1a button');\n",
              "      quickchartButtonEl.style.display =\n",
              "        google.colab.kernel.accessAllowed ? 'block' : 'none';\n",
              "    })();\n",
              "  </script>\n",
              "</div>\n",
              "\n",
              "  <div id=\"id_079f0825-eea9-4576-951e-4f4d0b4154d8\">\n",
              "    <style>\n",
              "      .colab-df-generate {\n",
              "        background-color: #E8F0FE;\n",
              "        border: none;\n",
              "        border-radius: 50%;\n",
              "        cursor: pointer;\n",
              "        display: none;\n",
              "        fill: #1967D2;\n",
              "        height: 32px;\n",
              "        padding: 0 0 0 0;\n",
              "        width: 32px;\n",
              "      }\n",
              "\n",
              "      .colab-df-generate:hover {\n",
              "        background-color: #E2EBFA;\n",
              "        box-shadow: 0px 1px 2px rgba(60, 64, 67, 0.3), 0px 1px 3px 1px rgba(60, 64, 67, 0.15);\n",
              "        fill: #174EA6;\n",
              "      }\n",
              "\n",
              "      [theme=dark] .colab-df-generate {\n",
              "        background-color: #3B4455;\n",
              "        fill: #D2E3FC;\n",
              "      }\n",
              "\n",
              "      [theme=dark] .colab-df-generate:hover {\n",
              "        background-color: #434B5C;\n",
              "        box-shadow: 0px 1px 3px 1px rgba(0, 0, 0, 0.15);\n",
              "        filter: drop-shadow(0px 1px 2px rgba(0, 0, 0, 0.3));\n",
              "        fill: #FFFFFF;\n",
              "      }\n",
              "    </style>\n",
              "    <button class=\"colab-df-generate\" onclick=\"generateWithVariable('df1')\"\n",
              "            title=\"Generate code using this dataframe.\"\n",
              "            style=\"display:none;\">\n",
              "\n",
              "  <svg xmlns=\"http://www.w3.org/2000/svg\" height=\"24px\"viewBox=\"0 0 24 24\"\n",
              "       width=\"24px\">\n",
              "    <path d=\"M7,19H8.4L18.45,9,17,7.55,7,17.6ZM5,21V16.75L18.45,3.32a2,2,0,0,1,2.83,0l1.4,1.43a1.91,1.91,0,0,1,.58,1.4,1.91,1.91,0,0,1-.58,1.4L9.25,21ZM18.45,9,17,7.55Zm-12,3A5.31,5.31,0,0,0,4.9,8.1,5.31,5.31,0,0,0,1,6.5,5.31,5.31,0,0,0,4.9,4.9,5.31,5.31,0,0,0,6.5,1,5.31,5.31,0,0,0,8.1,4.9,5.31,5.31,0,0,0,12,6.5,5.46,5.46,0,0,0,6.5,12Z\"/>\n",
              "  </svg>\n",
              "    </button>\n",
              "    <script>\n",
              "      (() => {\n",
              "      const buttonEl =\n",
              "        document.querySelector('#id_079f0825-eea9-4576-951e-4f4d0b4154d8 button.colab-df-generate');\n",
              "      buttonEl.style.display =\n",
              "        google.colab.kernel.accessAllowed ? 'block' : 'none';\n",
              "\n",
              "      buttonEl.onclick = () => {\n",
              "        google.colab.notebook.generateWithVariable('df1');\n",
              "      }\n",
              "      })();\n",
              "    </script>\n",
              "  </div>\n",
              "\n",
              "    </div>\n",
              "  </div>\n"
            ],
            "application/vnd.google.colaboratory.intrinsic+json": {
              "type": "dataframe",
              "variable_name": "df1",
              "summary": "{\n  \"name\": \"df1\",\n  \"rows\": 6,\n  \"fields\": [\n    {\n      \"column\": \"Your Counts\",\n      \"properties\": {\n        \"dtype\": \"number\",\n        \"std\": 2895,\n        \"min\": 1,\n        \"max\": 7414,\n        \"num_unique_values\": 6,\n        \"samples\": [\n          7414,\n          1084,\n          1\n        ],\n        \"semantic_type\": \"\",\n        \"description\": \"\"\n      }\n    }\n  ]\n}"
            }
          },
          "metadata": {},
          "execution_count": 120
        },
        {
          "output_type": "display_data",
          "data": {
            "text/plain": [
              "<google.colab._quickchart_helpers.SectionTitle at 0x79a007e6d030>"
            ],
            "text/html": [
              "<h4 class=\"colab-quickchart-section-title\">Distributions</h4>\n",
              "<style>\n",
              "  .colab-quickchart-section-title {\n",
              "      clear: both;\n",
              "  }\n",
              "</style>"
            ]
          },
          "metadata": {}
        },
        {
          "output_type": "display_data",
          "data": {
            "text/plain": [
              "from matplotlib import pyplot as plt\n",
              "df1['Your Counts'].plot(kind='hist', bins=20, title='Your Counts')\n",
              "plt.gca().spines[['top', 'right',]].set_visible(False)"
            ],
            "text/html": [
              "      <div class=\"colab-quickchart-chart-with-code\" id=\"chart-037aafd1-8371-4e2c-9458-a10aa6bfb1c1\">\n",
              "        <img style=\"width: 180px;\" src=\"data:image/png;base64,iVBORw0KGgoAAAANSUhEUgAAAjEAAAGrCAYAAAAxesZMAAAAOXRFWHRTb2Z0d2FyZQBNYXRwbG90\n",
              "bGliIHZlcnNpb24zLjcuMSwgaHR0cHM6Ly9tYXRwbG90bGliLm9yZy/bCgiHAAAACXBIWXMAAA9h\n",
              "AAAPYQGoP6dpAAAnzElEQVR4nO3df1BV953/8df14hI1gPEHlYhXIj90/QVcA2O0NUmzbmiToFU7\n",
              "0Y2tvxDctHWzZNaUMdlG0wQ7W52a7jhipSTWGa0/sMtoY7c2ZoubRDSWJNWJCvEKuiK7SVbQNYQf\n",
              "n+8fTu43twJ6yT1cPvB8zJwZ7zmHc98nV8lz7j1wXMYYIwAAAMv0C/cAAAAAXUHEAAAAKxExAADA\n",
              "SkQMAACwEhEDAACsRMQAAAArETEAAMBKRAwAALASEQMAAKxExAAAACsRMQA6ZIzRI488oscee+ym\n",
              "bd/61reUlZWl7rpzyfvvv6/58+crLi5Od955pxISErRgwQKdOHGiW55fknw+n1wul6qqqrrtOQF0\n",
              "jIgB0CGXy6VXXnlF77zzjv71X//Vv37z5s16++23tW3bNrlcrpA932effdbu+jfeeEOZmZn6yle+\n",
              "orfeekuNjY2qrKzUzJkztXv37pA9PwDLGAC4hT/84Q9m4MCB5r333jOnTp0ygwYNMv/+7/9uSkpK\n",
              "zIQJE0xUVJSZMGGCeeWVV/xfc/jwYSPJNDc3+9eVlJSYkSNH+h8vWrTIfPvb3zYrVqwww4YNM1lZ\n",
              "We0+f0pKilm4cOEt5wzFPI8//rj53ve+Z4YMGWJiY2PNs88+698+cOBAI8kMHDjQDBo0yOTl5Rlj\n",
              "jPn5z39uxowZY+68804TGxtrFi1adMtZAXx5EWFuKAAW+PrXv65//Md/1IIFC9S/f3/94Ac/UEND\n",
              "g1auXKl9+/bpgQce0OHDhzV79mzFxMRo9uzZt33sffv2qaioSC+//LKam5tv2n727FmdOXMm4J2g\n",
              "9uzduzdk87z66qvauHGjKioqNGPGDH3961/Xgw8+qJMnT+qee+7Ru+++q6SkJP98q1atUkVFhSZO\n",
              "nKirV69260dcQF/Gx0kAbsvzzz+vO+64Q5L0wgsvaMuWLVq2bJkeeughud1u/c3f/I2WLVumzZs3\n",
              "B3Xce++9V0uXLlX//v01cODAm7bX19dLkuLj4zs9TqjmmT59uubPny+326377rtPaWlpqqio6HD/\n",
              "iIgIGWN08uRJNTQ06M4779SMGTOCek4AXUPEALgtERERmjhxoiZMmKCIiAjV1tYqMTExYJ+kpCTV\n",
              "1NQEddx77rmn0+2xsbGSpAsXLnS6X6jmufvuuwMeDxo0SI2NjR3uf88992jnzp0qKSmRx+NRRkaG\n",
              "duzYEdRzAugaIgZAl4waNUrV1dUB66qrq+XxeCRJUVFRkqRr1675t//Xf/3XTcfp16/zb0PJyclK\n",
              "SUnRr371q26ZpzMdzTpr1iwdPHhQ//M//6N/+qd/0hNPPKEzZ84EdWwAwSNiAHRJTk6OfvnLX+qN\n",
              "N95Qa2urXn/9dRUXFys3N1eSlJKSoqioKBUVFamtrU2VlZXasmVLl56rqKhIu3fvVn5+vs6fPy9j\n",
              "jBoaGrRt2zatXr262+YZPny4+vXrp9OnT/vXnT59Wr/97W919epVRUREKCYmRpLkdru7dK4Abh8R\n",
              "A6BLvv3tb2v9+vV68sknNXjwYP3gBz/Qxo0bNWfOHEk33vl49dVXtWXLFkVHR6ugoMAfFMF64IEH\n",
              "dPToUV28eFGZmZmKiorS5MmTdfDgQc2bN6/b5hkwYIBeeukl5eTkaPDgwXryySf12Wef6cUXX9TI\n",
              "kSMVHR2tp59+Wtu2bbvpoy0Aoecyppt+UxUAAEAI8U4MAACwEhEDAACsRMQAAAArETEAAMBKRAwA\n",
              "ALASEQMAAKxExAAAACv1+ojZuHFjuEcAAAAO6PURc/78+XCPAAAAHNDrIwYAAPRORAwAALASEQMA\n",
              "AKxExAAAACsRMQAAwEpEDAAAsBIRAwAArETEAAAAKxExAADASkQMAACwEhEDAACsRMQAAAArORYx\n",
              "n376qWbPnq2UlBSlpqZq5syZqqqqanff/fv3a9y4cUpOTtacOXPU0NBwW9sAAEDf5eg7Mbm5uTp9\n",
              "+rTeffddzZo1Szk5OTftc/XqVS1btky/+c1vdPbsWd1999164YUXbrkNAAD0bY5FzB133KFvfvOb\n",
              "crlckqSpU6fK5/PdtN9rr72m9PR0jRs3TpL05JNPaseOHbfc1p6mpiY1NDQELK2trSE+MwAA0BNE\n",
              "dNcTbdy4UbNmzbppfU1NjUaPHu1/nJCQoEuXLqmlpaXTbRERN49eWFioNWvWBKybOnVqCM/i/0v4\n",
              "4QFHjusk37pHwj0CAAAh0y0X9r700kuqqqpSYWGho89TUFCgK1euBCyZmZmOPicAAAgPxyPmpz/9\n",
              "qUpLS/Xaa69p4MCBN233eDw6f/68/7HP51NcXJwiIiI63daeyMhIRUdHByxutzv0JwUAAMLO0YjZ\n",
              "sGGDduzYod///vcaPHhwu/tkZWXpxIkT+uCDDyRJmzZt0vz582+5DQAA9G2OXRNz4cIFPf300xoz\n",
              "ZowefPBBSTfeKTl69Kj++Z//WXfffbdWrFihqKgobd26VbNnz1ZLS4smTpyoV199VZI63QYAAPo2\n",
              "lzHGhHsIJ+Xn52vDhg0hPy4X9gIAEF78xl4AAGAlIgYAAFiJiAEAAFYiYgAAgJWIGAAAYCUiBgAA\n",
              "WImIAQAAViJiAACAlYgYAABgJSIGAABYiYgBAABWImIAAICViBgAAGAlIgYAAFiJiAEAAFYiYgAA\n",
              "gJWIGAAAYCUiBgAAWImIAQAAViJiAACAlYgYAABgJSIGAABYiYgBAABWImIAAICViBgAAGAlIgYA\n",
              "AFiJiAEAAFYiYgAAgJWIGAAAYCUiBgAAWImIAQAAViJiAACAlYgYAABgJSIGAABYiYgBAABWcjRi\n",
              "Vq5cqYSEBLlcLlVWVra7T0lJidLS0vzLsGHDNGfOHEmSz+eT2+0O2F5dXe3kyAAAwBIRTh583rx5\n",
              "WrVqlb761a92uM+SJUu0ZMkS/+OJEyfqiSee8D+OiorqMIAAAEDf5WjEzJgxI6j9jx49qvr6emVn\n",
              "Z3fp+ZqamtTU1BSwrrW1tUvHAgAAPVuPuiamuLhY3/nOd9S/f3//umvXrikjI0Ner1dr167tNEoK\n",
              "CwsVExMTsFRUVHTH6AAAoJv1mIi5du2adu7cqWXLlvnXxcXF6eLFizp27JgOHTqk8vJyrV+/vsNj\n",
              "FBQU6MqVKwFLZmZmd4wPAAC6WY+JmN27d2vChAkaP368f11kZKRiY2MlSUOGDNHSpUtVXl7e4TEi\n",
              "IyMVHR0dsLjdbsdnBwAA3a/HRExxcXHAuzCSVF9fr+bmZkk3rncpLS1Venp6OMYDAAA9jKMRk5eX\n",
              "p/j4eF24cEEPP/ywkpKSJEk5OTkqKyvz73f69GlVVlbq8ccfD/j6I0eOKD09XampqfJ6vRoxYoRW\n",
              "r17t5MgAAMASLmOMCfcQTsrPz9eGDRtCftyEHx4I+TGd5lv3SLhHAAAgZHrMx0kAAADBIGIAAICV\n",
              "iBgAAGAlIgYAAFiJiAEAAFYiYgAAgJWIGAAAYCUiBgAAWImIAQAAViJiAACAlYgYAABgJSIGAABY\n",
              "iYgBAABWImIAAICViBgAAGAlIgYAAFiJiAEAAFYiYgAAgJWIGAAAYCUiBgAAWImIAQAAViJiAACA\n",
              "lYgYAABgJSIGAABYiYgBAABWImIAAICViBgAAGAlIgYAAFiJiAEAAFYiYgAAgJWIGAAAYCUiBgAA\n",
              "WImIAQAAViJiAACAlYgYAABgJUcjZuXKlUpISJDL5VJlZWW7+7zxxhsaMGCA0tLS/Mv169f924uL\n",
              "i5WcnKzExEQtX75czc3NTo4MAAAs4WjEzJs3T0eOHNHo0aM73W/s2LGqrKz0LwMGDJAknTt3Ts89\n",
              "95zKy8tVVVWly5cva8uWLU6ODAAALOFoxMyYMUPx8fFd/vo9e/YoOztbI0aMkMvl0ooVK7Rjx44O\n",
              "929qalJDQ0PA0tra2uXnBwAAPVePuCamurpaXq9XGRkZ2rRpk399TU1NwLs4CQkJqqmp6fA4hYWF\n",
              "iomJCVgqKiocnR0AAIRH2CPG6/XqwoULOnHihPbt26fNmzdr165dXTpWQUGBrly5ErBkZmaGeGIA\n",
              "ANAThD1ioqOjFRMTI0mKj4/XggULVF5eLknyeDw6f/68f1+fzyePx9PhsSIjIxUdHR2wuN1uZ08A\n",
              "AACERdgj5tKlS2pra5MkNTY2av/+/UpPT5ckzZ07V2VlZaqrq5MxRps3b9b8+fPDOS4AAOghHI2Y\n",
              "vLw8xcfH68KFC3r44YeVlJQkScrJyVFZWZkkae/evZo0aZJSU1M1depUzZw5U0uWLJEkjRkzRmvW\n",
              "rNH06dOVlJSk4cOHKy8vz8mRAQCAJVzGGBPuIZyUn5+vDRs2hPy4CT88EPJjOs237pFwjwAAQMiE\n",
              "/eMkAACAriBiAACAlYgYAABgJSIGAABYiYgBAABWImIAAICViBgAAGAlIgYAAFiJiAEAAFYiYgAA\n",
              "gJWIGAAAYCUiBgAAWImIAQAAViJiAACAlYgYAABgJSIGAABYiYgBAABWImIAAICViBgAAGAlIgYA\n",
              "AFiJiAEAAFYiYgAAgJWIGAAAYCUiBgAAWImIAQAAViJiAACAlYgYAABgJSIGAABYiYgBAABWImIA\n",
              "AICViBgAAGAlIgYAAFiJiAEAAFYiYgAAgJWIGAAAYCVHI2blypVKSEiQy+VSZWVlu/u8/vrryszM\n",
              "1Pjx4zVhwgStWrVKbW1tkiSfzye32620tDT/Ul1d7eTIAADAEo5GzLx583TkyBGNHj26w33uuusu\n",
              "7dy5U6dOndI777yjN998U9u2bfNvj4qKUmVlpX9JTEx0cmQAAGCJCCcPPmPGjFvuk56e7v/zHXfc\n",
              "obS0NPl8vi49X1NTk5qamgLWtba2dulYAACgZ+tR18TU1dVpz549evTRR/3rrl27poyMDHm9Xq1d\n",
              "u7bTKCksLFRMTEzAUlFR0R2jAwCAbtZjIqahoUGPPfaYVq1apXvvvVeSFBcXp4sXL+rYsWM6dOiQ\n",
              "ysvLtX79+g6PUVBQoCtXrgQsmZmZ3XUKAACgG/WIiGlsbFRWVpZmzZql/Px8//rIyEjFxsZKkoYM\n",
              "GaKlS5eqvLy8w+NERkYqOjo6YHG73Y7PDwAAul/YI+bq1avKyspSVlaWnn322YBt9fX1am5ulnTj\n",
              "epfS0tKAa2gAAEDf5WjE5OXlKT4+XhcuXNDDDz+spKQkSVJOTo7KysokSRs3blRFRYVKS0v9P0b9\n",
              "4osvSpKOHDmi9PR0paamyuv1asSIEVq9erWTIwMAAEu4jDEm3EM4KT8/Xxs2bAj5cRN+eCDkx3Sa\n",
              "b90j4R4BAICQCfvHSQAAAF1BxAAAACsRMQAAwEpEDAAAsFLQEfO73/3OiTkAAACCEnTErF27VmPH\n",
              "jtXGjRvV0NDgxEwAAAC3FHTE/Od//qd27typP//5z0pJSdGTTz6pU6dOOTEbAABAh7p0TUx6erp+\n",
              "8Ytf6ODBg9q/f78mT56smTNn6v333w/1fAAAAO3qUsQcOnRIs2bN0pw5c/S9731PdXV1ysvL07e+\n",
              "9a1QzwcAANCuiGC/4K//+q81bNgwrVy5UnPmzPHfYHHevHkqLi4O+YAAAADtCTpitm/frilTprS7\n",
              "7bXXXvvSAwEAANyOoD9Oeuedd/Txxx/7H3/00Uf6xS9+EdKhAAAAbiXoiNm0aZOGDBnifzx06FBt\n",
              "2rQppEMBAADcStAR095Nr1tbW0MyDAAAwO0KOmLi4uK0a9cu/+Nf//rXiouLC+lQAAAAtxL0hb0/\n",
              "+9nPNGvWLK1atUqSNHDgQP3bv/1byAcDAADoTNARM27cOJ06dUqnT5+WJI0dO9b/Y9YAAADdJeiI\n",
              "kSSXy6XBgwerpaVFFy9elCR5PJ6QDgYAANCZoCPmlVde0cqVK9W/f3/163fjkhqXy6X6+vqQDwcA\n",
              "ANCRoCPmhRde0LFjxzR27Fgn5gEAALgtQf900rBhwwgYAAAQdkFHzOzZs/Wzn/1M9fX1amho8C8A\n",
              "AADdKeiPk1avXi1Jys/Pl8vlkjFGLpeLX3gHAAC6VdAR09bW5sQcAAAAQQn64yTpxk0gf/WrX0mS\n",
              "/vd//1eXLl0K6VAAAAC30qUbQC5dulTPP/+8pBt3sf67v/u7UM8FAADQqaAjZsuWLXr77bcVHR0t\n",
              "SUpMTNR///d/h3wwAACAzgQdMZGRkRowYEDAuoiILv3iXwAAgC4LOmKGDx+uM2fOyOVySbrxG3y5\n",
              "5QAAAOhuXbqL9YIFC/TBBx9o1KhRio6O1v79+52YDQAAoENBR0xSUpKOHj2q06dPyxjDXawBAEBY\n",
              "BB0xNTU1kqRBgwZJEnexBgAAYRF0xEyZMsX/m3o//fRT/d///Z+GDh3KXawBAEC3Cjpi/vLHqUtL\n",
              "S/Xuu++GbCAAAIDb0aXf2PtFc+bM0YEDB0IxCwAAwG0LOmK+eOfqTz75RAcPHuzwLtYrV65UQkKC\n",
              "XC6XKisrOzxmcXGxkpOTlZiYqOXLl6u5ufm2tgEAgL4r6IgZPHiw7rrrLg0ePFixsbHKz8/Xyy+/\n",
              "3O6+8+bN05EjRzR69OgOj3fu3Dk999xzKi8vV1VVlS5fvqwtW7bcchsAAOjbgo6YtrY2tba2qq2t\n",
              "Tc3NzTp16pSysrLa3XfGjBmKj4/v9Hh79uxRdna2RowYIZfLpRUrVmjHjh233NaepqamgHeKGhoa\n",
              "1NraGuwpAgAAC4T9fgE1NTUB79QkJCT4f4y7s23tKSws1Jo1awLWTZ06NcQT2yvhh85du+Rb94hj\n",
              "xwYAfDlOff8P9/f+oN+J6devn9xu903L5+vDqaCgQFeuXAlYMjMzwzoTAABwRtDvxKxdu1bXr1/X\n",
              "3//930uSNm/erAEDBuipp57q0gAej0fV1dX+xz6fz/+L8zrb1p7IyEhFRkYGrAt3WAEAAGcE/U7M\n",
              "vn379OKLLyo+Pl7x8fH68Y9/rNLSUg0aNMj/W3yDMXfuXJWVlamurk7GGG3evFnz58+/5TYAANC3\n",
              "BR0xjY2NAb+dt76+Xo2Nje3um5eXp/j4eF24cEEPP/ywkpKSJEk5OTkqKyuTJI0ZM0Zr1qzR9OnT\n",
              "lZSUpOHDhysvL++W2wAAQN8W9MdJTz/9tFJTU/XNb35TknTw4EE9//zz7e5bVFTU7vqtW7cGPF6+\n",
              "fLmWL1/e7r6dbQMAAH1X0BGTl5en6dOn6/Dhw5Kk/Px8TZgwIeSDAQAAdKZLP2I9dOhQTZo0SQ88\n",
              "8IBaWlr02Wef6a/+6q9CPRsAAECHgr4mZs+ePZo6daqWLFkiSTp58qRmz54d6rkAAAA6FXTEFBYW\n",
              "6sSJExo8eLAkKTU1VefPnw/1XAAAAJ0KOmLcbreGDh0asI6PkgAAQHcLOmKioqJ0+fJluVwuSdIf\n",
              "/vAHDRkyJOSDAQAAdCboC3t/8pOf6Bvf+IY+/PBDffWrX9W5c+d04IBz9+QBAABoT1AR8/kdrA8f\n",
              "Pqw333xTxhhNmzbNf30MAABAdwkqYvr166fc3Fy9++67+sY3vuHUTAAAALcU9DUxycnJqqqqcmIW\n",
              "AACA2xb0NTEff/yx0tLSNG3aNN15553+9aWlpSEdDAAAoDO3HTG5ubnasmWLFi1apOzsbN11111O\n",
              "zgUAANCp246Y48ePS5IWLVokr9erEydOODYUAADArQR9TYwkGWNCPQcAAEBQbvudmOvXr+v999+X\n",
              "MUaffvqp/8+fmzx5siMDAgAAtCeoiMnOzvY//uKfXS6XPvzww9BOBgAA0Inbjhifz+fgGAAAAMHp\n",
              "0jUxAAAA4UbEAAAAKxExAADASkQMAACwEhEDAACsRMQAAAArETEAAMBKRAwAALASEQMAAKxExAAA\n",
              "ACsRMQAAwEpEDAAAsBIRAwAArETEAAAAKxExAADASkQMAACwEhEDAACsRMQAAAArORoxZ8+e1bRp\n",
              "05SSkqKMjAydPHnypn1KSkqUlpbmX4YNG6Y5c+ZIknw+n9xud8D26upqJ0cGAACWiHDy4Hl5ecrN\n",
              "zdXixYu1Z88eLV68WMeOHQvYZ8mSJVqyZIn/8cSJE/XEE0/4H0dFRamystLJMQEAgIUceyemvr5e\n",
              "x48f18KFCyVJc+fOVW1traqqqjr8mqNHj6q+vl7Z2dldes6mpiY1NDQELK2trV06FgAA6Nkci5ja\n",
              "2lrFxcUpIuLGmz0ul0sej0c1NTUdfk1xcbG+853vqH///v51165dU0ZGhrxer9auXdtplBQWFiom\n",
              "JiZgqaioCN1JAQCAHqPHXNh77do17dy5U8uWLfOvi4uL08WLF3Xs2DEdOnRI5eXlWr9+fYfHKCgo\n",
              "0JUrVwKWzMzM7hgfAAB0M8ciZtSoUbp06ZJaWlokScYY1dTUyOPxtLv/7t27NWHCBI0fP96/LjIy\n",
              "UrGxsZKkIUOGaOnSpSovL+/wOSMjIxUdHR2wuN3uEJ4VAADoKRyLmNjYWHm9Xm3fvl2StHfvXsXH\n",
              "xyspKand/YuLiwPehZFuXFfT3Nws6cb1LqWlpUpPT3dqZAAAYBFHP04qKipSUVGRUlJStG7dOpWU\n",
              "lEiScnJyVFZW5t/v9OnTqqys1OOPPx7w9UeOHFF6erpSU1Pl9Xo1YsQIrV692smRAQCAJRz9Eeux\n",
              "Y8fqrbfeumn91q1bb9qvsbHxpv3mzJnj/50xAAAAX9RjLuwFAAAIBhEDAACsRMQAAAArETEAAMBK\n",
              "RAwAALASEQMAAKxExAAAACsRMQAAwEpEDAAAsBIRAwAArETEAAAAKxExAADASkQMAACwEhEDAACs\n",
              "RMQAAAArETEAAMBKRAwAALASEQMAAKxExAAAACsRMQAAwEpEDAAAsBIRAwAArETEAAAAKxExAADA\n",
              "SkQMAACwEhEDAACsRMQAAAArETEAAMBKRAwAALASEQMAAKxExAAAACsRMQAAwEpEDAAAsBIRAwAA\n",
              "rETEAAAAKzkaMWfPntW0adOUkpKijIwMnTx58qZ93njjDQ0YMEBpaWn+5fr16/7txcXFSk5OVmJi\n",
              "opYvX67m5mYnRwYAAJZwNGLy8vKUm5urM2fO6JlnntHixYvb3W/s2LGqrKz0LwMGDJAknTt3Ts89\n",
              "95zKy8tVVVWly5cva8uWLU6ODAAALOFYxNTX1+v48eNauHChJGnu3Lmqra1VVVXVbR9jz549ys7O\n",
              "1ogRI+RyubRixQrt2LGjw/2bmprU0NAQsLS2tn7pcwEAAD2PYxFTW1uruLg4RURESJJcLpc8Ho9q\n",
              "ampu2re6ulper1cZGRnatGmTf31NTY1Gjx7tf5yQkNDu13+usLBQMTExAUtFRUUIzwoAAPQUYb+w\n",
              "1+v16sKFCzpx4oT27dunzZs3a9euXV06VkFBga5cuRKwZGZmhnhiAADQEzgWMaNGjdKlS5fU0tIi\n",
              "STLGqKamRh6PJ2C/6OhoxcTESJLi4+O1YMEClZeXS5I8Ho/Onz/v39fn89309V8UGRmp6OjogMXt\n",
              "dof61AAAQA/gWMTExsbK6/Vq+/btkqS9e/cqPj5eSUlJAftdunRJbW1tkqTGxkbt379f6enpkm5c\n",
              "R1NWVqa6ujoZY7R582bNnz/fqZEBAIBFHP04qaioSEVFRUpJSdG6detUUlIiScrJyVFZWZmkG3Ez\n",
              "adIkpaamaurUqZo5c6aWLFkiSRozZozWrFmj6dOnKykpScOHD1deXp6TIwMAAEu4jDEm3EM4KT8/\n",
              "Xxs2bAj5cRN+eCDkx7SZb90j4R4BANABp/6fFe7v/WG/sBcAAKAriBgAAGAlIgYAAFiJiAEAAFYi\n",
              "YgAAgJWIGAAAYCUiBgAAWImIAQAAViJiAACAlYgYAABgJSIGAABYiYgBAABWImIAAICViBgAAGAl\n",
              "IgYAAFiJiAEAAFYiYgAAgJWIGAAAYCUiBgAAWImIAQAAViJiAACAlYgYAABgJSIGAABYiYgBAABW\n",
              "ImIAAICViBgAAGAlIgYAAFiJiAEAAFYiYgAAgJWIGAAAYCUiBgAAWImIAQAAViJiAACAlYgYAABg\n",
              "JSIGAABYydGIOXv2rKZNm6aUlBRlZGTo5MmTN+3z+uuvKzMzU+PHj9eECRO0atUqtbW1SZJ8Pp/c\n",
              "brfS0tL8S3V1tZMjAwAASzgaMXl5ecrNzdWZM2f0zDPPaPHixTftc9ddd2nnzp06deqU3nnnHb35\n",
              "5pvatm2bf3tUVJQqKyv9S2JiopMjAwAASzgWMfX19Tp+/LgWLlwoSZo7d65qa2tVVVUVsF96errG\n",
              "jBkjSbrjjjuUlpYmn8/XpedsampSQ0NDwNLa2vqlzgMAAPRMjkVMbW2t4uLiFBERIUlyuVzyeDyq\n",
              "qanp8Gvq6uq0Z88ePfroo/51165dU0ZGhrxer9auXdtplBQWFiomJiZgqaioCN1JAQCAHqPHXNjb\n",
              "0NCgxx57TKtWrdK9994rSYqLi9PFixd17NgxHTp0SOXl5Vq/fn2HxygoKNCVK1cClszMzO46BQAA\n",
              "0I0ci5hRo0bp0qVLamlpkSQZY1RTUyOPx3PTvo2NjcrKytKsWbOUn5/vXx8ZGanY2FhJ0pAhQ7R0\n",
              "6VKVl5d3+JyRkZGKjo4OWNxud4jPDAAA9ASORUxsbKy8Xq+2b98uSdq7d6/i4+OVlJQUsN/Vq1eV\n",
              "lZWlrKwsPfvsswHb6uvr1dzcLOnG9S6lpaVKT093amQAAGARRz9OKioqUlFRkVJSUrRu3TqVlJRI\n",
              "knJyclRWViZJ2rhxoyoqKlRaWur/MeoXX3xRknTkyBGlp6crNTVVXq9XI0aM0OrVq50cGQAAWMJl\n",
              "jDHhHsJJ+fn52rBhQ8iPm/DDAyE/ps186x4J9wgAgA449f+scH/v7zEX9gIAAASDiAEAAFYiYgAA\n",
              "gJWIGAAAYCUiBgAAWImIAQAAViJiAACAlYgYAABgJSIGAABYiYgBAABWImIAAICViBgAAGAlIgYA\n",
              "AFiJiAEAAFYiYgAAgJWIGAAAYCUiBgAAWImIAQAAViJiAACAlYgYAABgJSIGAABYiYgBAABWImIA\n",
              "AICViBgAAGAlIgYAAFiJiAEAAFYiYgAAgJWIGAAAYCUiBgAAWImIAQAAViJiAACAlYgYAABgJSIG\n",
              "AABYiYgBAABWImIAAICVHI2Ys2fPatq0aUpJSVFGRoZOnjzZ7n7FxcVKTk5WYmKili9frubm5tva\n",
              "BgAA+i5HIyYvL0+5ubk6c+aMnnnmGS1evPimfc6dO6fnnntO5eXlqqqq0uXLl7Vly5ZbbgMAAH2b\n",
              "YxFTX1+v48ePa+HChZKkuXPnqra2VlVVVQH77dmzR9nZ2RoxYoRcLpdWrFihHTt23HJbe5qamtTQ\n",
              "0BCwtLa2OnWKAAAgjCKcOnBtba3i4uIUEXHjKVwulzwej2pqapSUlOTfr6amRqNHj/Y/TkhIUE1N\n",
              "zS23taewsFBr1qwJWDdu3Djl5+eH5Jw+19raqriKCmVmZsrtdof02D1Va2urKjo55/z8P4RhKmfd\n",
              "6px7I865959zXztfiXN2u92a49DzOPm9f/To0fqHf/iHTvdxLGLCoaCg4KZgiYyMVGRkZEifp6Gh\n",
              "QTExMfrd736n6OjokB67p+KcOefeqq+dc187X4lz7s3n7FjEjBo1SpcuXVJLS4siIiJkjFFNTY08\n",
              "Hk/Afh6PR9XV1f7HPp/Pv09n29rjRLAAAICeybFrYmJjY+X1erV9+3ZJ0t69exUfHx/wUZJ041qZ\n",
              "srIy1dXVyRijzZs3a/78+bfcBgAA+jZHfzqpqKhIRUVFSklJ0bp161RSUiJJysnJUVlZmSRpzJgx\n",
              "WrNmjaZPn66kpCQNHz5ceXl5t9wGAAD6NkeviRk7dqzeeuutm9Zv3bo14PHy5cu1fPnydo/R2bZw\n",
              "iYyM1I9+9KM+9dEV59w3cM69X187X4lz7s1cxhgT7iEAAACCxW0HAACAlYgYAABgJSIGAABYiYgB\n",
              "AABWImK64Hbvzt2TrVy5UgkJCXK5XKqsrPSv7+zcurqtp/j00081e/ZspaSkKDU1VTNnzvTfy6u+\n",
              "vl5ZWVlKTk7WxIkT9cc//tH/dV3d1lP87d/+rSZPnqy0tDR97Wtf05/+9CdJvfu1lqSSkhK5XC79\n",
              "5je/kdS7X+OEhASNHTtWaWlpSktL069//WtJvfs1bmpq0ve//30lJydr0qRJ/vv09dZz/uijj/yv\n",
              "b1pamlJSUhQREaGPP/64V//dviWDoD344IOmpKTEGGPM7t27zb333hvegbrgP/7jP0xtba0ZPXq0\n",
              "+dOf/uRf39m5dXVbT3H9+nVz4MAB09bWZowx5uc//7m5//77jTHGLFmyxPzoRz8yxhhTUVFhRo4c\n",
              "aT777LMvta2n+OSTT/x/Li0tNZMnTzbG9O7X+ty5c+a+++4zU6dONfv27TPG9O7X+C//HX+uN7/G\n",
              "Tz31lPn+97/v//d86dIlY0zvPucv+pd/+Rfz6KOPGmN699/tWyFignT58mUTFRVlmpubjTHGtLW1\n",
              "ma985Svm7NmzYZ6sa774za+zc+vqtp7s2LFjZvTo0cYYYwYNGuT/JmiMMRkZGeb3v//9l9rWE5WU\n",
              "lJjU1NRe/Vq3traahx56yBw/ftzcf//9/ojpza9xexHTm1/jq1evmqioKHPlypWA9b35nP/SuHHj\n",
              "+sTf7VvpVTeA7A63e3duG3V2bjExMV3a1pP/m2zcuFGzZs3SRx99pObmZo0YMcK/7fM7pnd1W0/z\n",
              "3e9+V4cPH5Yk/fa3v+3Vr/WGDRs0ffp0TZkyxb+ur7zGxhhlZmZq3bp1vfo1rq6u1pAhQ/TSSy/p\n",
              "0KFDGjBggJ5//nkNHjy4157zF7355pv65JNP9Oijj/aJv9ud4ZoY9EkvvfSSqqqqVFhYGO5RusW2\n",
              "bdtUW1urH//4x3rmmWfCPY5j/vznP2vv3r169tlnwz1Kt/rjH/+o9957TydOnNCwYcO0aNGicI/k\n",
              "qJaWFp0/f17jx4/X8ePH9fLLL+vxxx9XS0tLuEfrFsXFxfrud7/rj66+jIgJ0hfvzi2pw7tz26iz\n",
              "c+vqtp7opz/9qUpLS/Xaa69p4MCBGjp0qCIiIlRXV+ff5/M7pnd1W0+1aNEiHT58WPHx8b3ytS4v\n",
              "L5fP51NycrISEhL09ttvKzc3V7t27erVr/Hn8/Tv319PPfWUysvLe/W/Z4/Ho379+umJJ56QJKWn\n",
              "p+uee+7R+fPne+05f+7q1avatWuXli5dKkl96vtXu8LxGZbt7r///oALwKZMmRLegb6Ev/wsvbNz\n",
              "6+q2nmT9+vXG6/Wajz/+OGD9okWLAi5wu/vuu/0XuHV1W0/wySefmIsXL/of79u3z4wcOdK0tbX1\n",
              "+tfaGBNwTUxvfY2vXr0acPH2+vXrzde+9jVjTO/+9zxz5kxz4MABY4wxH374oRk6dKi5cOFCrz5n\n",
              "Y4zZunWrmT59esC63vp3+3YQMV3wwQcfmKlTp5rk5GQzZcoU895774V7pKDl5uaakSNHGrfbbWJj\n",
              "Y01iYqIxpvNz6+q2nqK2ttZIMmPGjDGpqakmNTXVZGZmGmOMqaurMzNnzjRJSUlm/Pjx5vXXX/d/\n",
              "XVe39QQ+n89kZGSYiRMnmsmTJ5uHHnrIH629+bX+3Bcjpre+xtXV1SYtLc1MmjTJTJw40WRnZ5tz\n",
              "584ZY3r3a1xdXW0eeOAB/9/tPXv2GGN69zkbY8x9991nfvnLXwas661/t28HN4AEAABW4poYAABg\n",
              "JSIGAABYiYgBAABWImIAAICViBgAAGAlIgYAAFiJiAEAAFYiYgAAgJWIGAAAYCUiBgAAWOn/AaMe\n",
              "6lndpUzqAAAAAElFTkSuQmCC\n",
              "\">\n",
              "      </div>\n",
              "      <script type=\"text/javascript\">\n",
              "        (() => {\n",
              "          const chartElement = document.getElementById(\"chart-037aafd1-8371-4e2c-9458-a10aa6bfb1c1\");\n",
              "          async function getCodeForChartHandler(event) {\n",
              "            const chartCodeResponse =  await google.colab.kernel.invokeFunction(\n",
              "                'getCodeForChart', [\"chart-037aafd1-8371-4e2c-9458-a10aa6bfb1c1\"], {});\n",
              "            const responseJson = chartCodeResponse.data['application/json'];\n",
              "            await google.colab.notebook.addCell(responseJson.code, 'code');\n",
              "          }\n",
              "          chartElement.onclick = getCodeForChartHandler;\n",
              "        })();\n",
              "      </script>\n",
              "      <style>\n",
              "        .colab-quickchart-chart-with-code  {\n",
              "            display: block;\n",
              "            float: left;\n",
              "            border: 1px solid transparent;\n",
              "        }\n",
              "\n",
              "        .colab-quickchart-chart-with-code:hover {\n",
              "            cursor: pointer;\n",
              "            border: 1px solid #aaa;\n",
              "        }\n",
              "      </style>"
            ]
          },
          "metadata": {}
        },
        {
          "output_type": "display_data",
          "data": {
            "text/plain": [
              "<google.colab._quickchart_helpers.SectionTitle at 0x79a007e6dcf0>"
            ],
            "text/html": [
              "<h4 class=\"colab-quickchart-section-title\">Values</h4>\n",
              "<style>\n",
              "  .colab-quickchart-section-title {\n",
              "      clear: both;\n",
              "  }\n",
              "</style>"
            ]
          },
          "metadata": {}
        },
        {
          "output_type": "display_data",
          "data": {
            "text/plain": [
              "from matplotlib import pyplot as plt\n",
              "df1['Your Counts'].plot(kind='line', figsize=(8, 4), title='Your Counts')\n",
              "plt.gca().spines[['top', 'right']].set_visible(False)"
            ],
            "text/html": [
              "      <div class=\"colab-quickchart-chart-with-code\" id=\"chart-219e520a-18ec-449b-9f46-ba767aa95e33\">\n",
              "        <img style=\"width: 180px;\" src=\"data:image/png;base64,iVBORw0KGgoAAAANSUhEUgAAAqUAAAFuCAYAAAC4H2HYAAAAOXRFWHRTb2Z0d2FyZQBNYXRwbG90\n",
              "bGliIHZlcnNpb24zLjcuMSwgaHR0cHM6Ly9tYXRwbG90bGliLm9yZy/bCgiHAAAACXBIWXMAAA9h\n",
              "AAAPYQGoP6dpAABE7UlEQVR4nO3deXhU9aH/8c8sWQhkEkISCAlJCCFsAcIWAZXNBbe6oLigYhQI\n",
              "y2NbL/e2SDft77by2Hrxqr0KWgQBtWJx69WrVmWRirIoiIhAAlmAQMhC9m1mzu+PhJGRgGQhJ5O8\n",
              "X88zD+R8z5z5DJMJn3zPmXMshmEYAgAAAExkNTsAAAAAQCkFAACA6SilAAAAMB2lFAAAAKajlAIA\n",
              "AMB0lFIAAACYjlIKAAAA01FKAQAAYDpKKQAAAExHKQUAAIDpKKUAOh3DMHT99dfrJz/5yVljt9xy\n",
              "i6655hq11RWY9+zZozvvvFNRUVHq1q2b4uPjddddd+nLL79sk8eXpKysLFksFmVkZLTZYwLAD1FK\n",
              "AXQ6FotFq1at0s6dO/WXv/zFs3zZsmX6/PPPtXr1alksllZ7vNra2kaXb9y4UampqerZs6e2bt2q\n",
              "srIy7dq1S1dddZVef/31Vnt8APAFlFIAnVJERITWrl2rRYsWac+ePdq3b5/+4z/+Q6tXr9Z7772n\n",
              "5ORkORwOJScn66WXXvLcb+PGjbJYLHI6nZ5lq1atUkxMjOfrtLQ03X777Zo/f74iIiJ00003NZph\n",
              "7ty5uu222/TUU08pPj5eFotFoaGheuCBB7RkyRKv7bc0z5133qkHH3xQPXr0UM+ePfXb3/7WMz5k\n",
              "yBBJ0vDhw9WtWzfNmzdPkvSXv/xF/fr1U3BwsHr27Km0tLSm/jMDwAWzmx0AAMwyZcoU/du//Zvu\n",
              "uusu+fn56ac//alKS0v1s5/9TG+++aYmTZqkDRs26Oabb1ZISIhuvvnmC972m2++qeXLl+vpp59W\n",
              "XV3dWeMHDx7UgQMHvGZqG7N+/fpWy/PSSy/pqaee0rZt2zRhwgRNmTJFkydP1t69e9W3b1/t3r1b\n",
              "iYmJnny//OUvtW3bNiUnJ6u8vLxNDykA0PkwUwqgU3v00UcVGBgoSfrP//xPPf/885o1a5auuOIK\n",
              "2Ww2XXnllZo1a5aWLVvWpO2OHj1aDzzwgPz8/BQUFHTWeH5+viR5zWg2prXyXHrppbrzzjtls9k0\n",
              "btw4paSkaNu2bedc3263yzAM7d27V6WlperWrZsmTJjQpMcEgKaglALo1Ox2u5KTkzVkyBDZ7Xbl\n",
              "5uaqX79+XuskJiYqJyenSdvt27fveccjIyMlSUeOHDnveq2Vp3fv3l5fd+3aVWVlZedcv2/fvvrb\n",
              "3/6mlStXKjY2VmPGjNGrr77apMcEgKaglALAGfr06aPMzEyvZZmZmYqNjZUkBQcHS5IqKio848eO\n",
              "HTtrO1br+X+89u/fX0lJSVqzZk2b5Dmfc2W96aab9P7776ugoEC/+MUvdPfdd+vAgQNN2jYAXChK\n",
              "KQCcYfbs2XrxxRe1ceNGuVwuffLJJ1qxYoXS09MlSUlJSQoODtby5cvldru1a9cuPf/88816rOXL\n",
              "l+v111/XwoULlZ2dLcMwVFpaqtWrV+vXv/51m+WJiIiQ1WrV/v37Pcv279+v9957T+Xl5bLb7QoJ\n",
              "CZEk2Wy2Zj1XAPgxlFIAOMP06dP1X//1X1qwYIFCQ0P105/+VE899ZSmTZsmqX5m8qWXXtLzzz8v\n",
              "h8OhxYsXewpiU02aNElffPGFjh49qtTUVAUHB2vYsGF6//33ddttt7VZni5duuixxx7T7NmzFRoa\n",
              "qgULFqi2tlZ//OMfFR0dLYfDoX//93/X6tWrzzqUAABai8VoqzNEAwAAAOfATCkAAABMRykFAACA\n",
              "6SilAAAAMB2lFAAAAKajlAIAAMB0lFIAAACYjlIKAAAA0/l8KX3qqafMjgAAAIAW8vlSmp2dbXYE\n",
              "AAAAtJDPl1IAAAD4PkopAAAATEcpBQAAgOkopQAAADAdpRQAAACmo5QCAADAdJRSAAAAmI5SCgAA\n",
              "ANNRSgEAAGA6SikAAABMRyltIqfLbXYEAACADodSeoHyS6u1cN0uTXvuMxmGYXYcAACADoVSeoH8\n",
              "7VZ98M1xfX2kRBsPnDQ7DgAAQIdCKb1AoUH+mnFJrCTpuQ2ZJqcBAADoWCilTTDrsgT52SzallWk\n",
              "HVlFZscBAADoMCilTdArJFC3joyRJD23kdlSAACA1kIpbaK5E/vJYpE+/i5f3x0vNTsOAABAh0Ap\n",
              "baK+4V11XXKUJGZLAQAAWgultBnmT+onSfrH7mPKKaw0OQ0AAIDvo5Q2Q3J0iCYkRchtSM9/ymwp\n",
              "AABAS1FKm2n+xPrZ0nU7jii/rNrkNAAAAL6NUtpMYxPCNCI2VLVOt1b+K8vsOAAAAD6NUtpMFotF\n",
              "CyYlSpLWbs1WaXWdyYkAAAB8F6W0Ba4YGKmknt1UVuPUmq3ZZscBAADwWU0qpYWFhUpJSfHckpKS\n",
              "ZLfbVVRUpPz8fF1zzTXq37+/kpOTtXnzZs/9mjvW3lmtFs1rOLZ05b8Oq7rOZXIiAAAA39SkUtqj\n",
              "Rw/t2rXLc0tPT9e1116rsLAwPfzwwxo7dqwOHjyolStXasaMGaqrq9+l3dwxX/CT4b0VHdpFBeW1\n",
              "en1HrtlxAAAAfFKLdt+vWLFCs2bNkiStW7dO8+bNkySNGTNGvXv31qZNm1o05gv8bFbNnZggSVq+\n",
              "+ZCcLrfJiQAAAHxPs0vpZ599puLiYt1www0qLCxUXV2devXq5RmPj49XTk5Os8caU1NTo9LSUq+b\n",
              "y2X+LvPpo/qoR1d/HSmu0j++PmZ2HAAAAJ/T7FK6YsUKzZw5U3a7vTXznNeSJUsUEhLiddu2bVub\n",
              "Pf65dPG36YHL+kqqv/So222YnAgAAMC3NKuUlpeXa926dXrggQck1R9rarfbdfz4cc86WVlZio2N\n",
              "bfZYYxYvXqySkhKvW2pqanOeQqu7Z2ycugXYdeBEuT75Lt/sOAAAAD6lWaX0tdde0/DhwzVw4EDP\n",
              "sunTp2vZsmWSpO3bt+vo0aOaOHFii8Z+KCAgQA6Hw+tms9ma8xRaXUgXP909tr5MP7sxQ4bBbCkA\n",
              "AMCFata+9xUrVmjOnDleyx5//HHde++96t+/v/z9/bV27Vr5+fm1aMzXzLqsr1b+K0tf5pzStsNF\n",
              "uiShh9mRAAAAfILF8PEpvYULF2rp0qVmx/D49Zt79PIXOZqYFKGXHmgfhxYAAAC0d1zRqZWlT0iQ\n",
              "1SJtOnBS3xwtMTsOAACAT6CUtrK4Hl11w7DekqRlmzJNTgMAAOAbKKUXwfxJ9ZcefW9PnrIKKkxO\n",
              "AwAA0P5RSi+CQVEOTRkYKbchLd/MbCkAAMCPoZReJKdnS9fvPKoTpdUmpwEAAGjfKKUXyZj4MI2J\n",
              "765al1srthw2Ow4AAEC7Rim9iBZMSpQkvfx5tkoq60xOAwAA0H5RSi+iSQMiNLBXsCpqXXppa5bZ\n",
              "cQAAANotSulFZLFYPMeWrvzXYVXWOk1OBAAA0D5RSi+y64dGKTYsSMWVdXpte67ZcQAAANolSulF\n",
              "ZrdZlT4hQZL0wuZDqnW6TU4EAADQ/lBK28Bto2IUERygYyXVemf3MbPjAAAAtDuU0jYQ6GfTrMv6\n",
              "Sqq/9KjbbZicCAAAoH2hlLaRuy+JVXCgXRn55frw2xNmxwEAAGhXKKVtJDjQTzPHxUmSntuYIcNg\n",
              "thQAAOA0Smkbuv/SvgqwW7X7SIm2ZhaaHQcAAKDdoJS2ofBuAbpzTB9J0rMbM01OAwAA0H5QStvY\n",
              "7MsTZLNatCWjQF8fOWV2HAAAgHaBUtrG+oQF6abhvSVJzzFbCgAAIIlSaop5DZcefX/vcWXkl5uc\n",
              "BgAAwHyUUhMk9QzWlYN6yjCk5ZuYLQUAAKCUmmTB5PrZ0rd2HdWxU1UmpwEAADAXpdQkI2O7a2xC\n",
              "mOpchv766WGz4wAAAJiKUmqi+ZMSJUmvbstRUUWtyWkAAADMQyk10YT+4RrS26GqOpdWfZZldhwA\n",
              "AADTUEpNZLFYtKBhtvSlz7JUUeM0OREAAIA5KKUmuya5l/qGd1VJVZ1e3ZZjdhwAAABTUEpNZrNa\n",
              "NHdCgiTphU8PqcbpMjkRAABA26OUtgO3jIxWT0eATpTW6K2vjpodBwAAoM01uZTW1NTowQcfVP/+\n",
              "/TV06FDdc889kqSDBw9q/PjxSkpK0pgxY7R3717PfZo71lkE2G2ac3n9bOmyTYfkchsmJwIAAGhb\n",
              "TS6lDz/8sCwWiw4cOKA9e/boiSeekCTNnTtX6enpOnDggBYtWqS0tDTPfZo71pncmRqrkC5+OlxQ\n",
              "ofe/OW52HAAAgDZlMQzjgqflKioqFBUVpSNHjsjhcHiW5+fnKzExUUVFRbLb7TIMQ1FRUdqyZYsc\n",
              "DkezxhITEy8o08KFC7V06dKmP/N2aOk/D+jpjw8qOdqhfzx4mSwWi9mRAAAA2kSTZkozMzMVFham\n",
              "xx57TKNHj9bll1+ujz/+WLm5uYqKipLdbpdUf6qj2NhY5eTkNHusMTU1NSotLfW6uVwd54NBaePj\n",
              "1cXPpm+OlurTgwVmxwEAAGgzTSqlTqdT2dnZGjx4sHbs2KGnn35ad9xxh5zOtjm/5pIlSxQSEuJ1\n",
              "27ZtW5s8dlsI6+qvO1P7SJKe3ZhhchoAAIC206RSGhsbK6vVqrvvvluSNGLECPXt21fZ2dnKy8vz\n",
              "lFPDMJSTk6PY2Fj16dOnWWONWbx4sUpKSrxuqampzX7y7dGcyxPkZ7Po80NF+jKn2Ow4AAAAbaJJ\n",
              "pTQ8PFxXXHGFPvjgA0nS4cOHdfjwYV166aUaOXKk1q5dK0lav369YmJilJiYqMjIyGaNNSYgIEAO\n",
              "h8PrZrPZmv3k26PeoV10c0q0JOm5jZkmpwEAAGgbTfqgkyQdOnRIs2bNUkFBgaxWq373u9/p1ltv\n",
              "1f79+5WWlqbCwkI5HA6tXLlSQ4cOlaRmj12IjvRBp9My8st11ZObZBjSh/82QUk9g82OBAAAcFE1\n",
              "uZS2Nx2xlErSvDU79f7e45o2IlpL70gxOw4AAMBFxRWd2qkFk/tJkt7efUxHiitNTgMAAHBxUUrb\n",
              "qWExobosMVwut6EXNh8yOw4AAMBFRSltx+ZPqp8t/dv2XBWU15icBgAA4OKhlLZj4/v10PCYENU4\n",
              "3Vr1ryyz4wAAAFw0lNJ2zGKxaP6k+tNjvbQ1S2XVdSYnAgAAuDgope3c1YN7ql9EV5VVO/XyF41f\n",
              "fhUAAMDXUUrbOavVonkT648tXbHlsKrrXCYnAgAAaH2UUh9wU0q0eocE6mRZjdZ/ecTsOAAAAK2O\n",
              "UuoD/O1Wzb48QZK0fNMhOV1ukxMBAAC0Lkqpj7gztY+6B/kpp6hS7+7JMzsOAABAq6KU+oggf7vu\n",
              "v7SvJOm5jZny8avDAgAAeKGU+pD7xsWrq79N3x0v08b9J82OAwAA0GoopT4kJMhPMy6JlSQ9uzHD\n",
              "5DQAAACth1LqY2ZfniB/m1Xbs4q1PavI7DgAAACtglLqY3o6AnXrqGhJ9ceWAgAAdASUUh+UPqGf\n",
              "rBbpk+/ytS+v1Ow4AAAALUYp9UF9w7vq2qFRkpgtBQAAHQOl1EfNb7j06P9+fUw5hZUmpwEAAGgZ\n",
              "SqmPSo4O0YSkCLkNaflmZksBAIBvo5T6sAWT6mdLX995RPll1SanAQAAaD5KqQ+7pG+YRsaGqtbp\n",
              "1otbssyOAwAA0GyUUh9msVg0f1KiJGnt59kqqaozOREAAEDzUEp93BUDI5XUs5vKa5xa+3m22XEA\n",
              "AACahVLq46xWi+Y3HFv64pbDqq5zmZwIAACg6SilHcBPhvVWTPcuKqyo1boduWbHAQAAaDJKaQdg\n",
              "t1mVPiFBkrR80yHVudwmJwIAAGgaSmkHcfvoPgrv5q+jp6r0j93HzI4DAADQJJTSDiLQz6b7L+0r\n",
              "SVq2KVNut2FyIgAAgAtHKe1A7hkbp24Bdh04Ua6Pv8s3Ow4AAMAFa3IpjY+P14ABA5SSkqKUlBS9\n",
              "9tprkqSDBw9q/PjxSkpK0pgxY7R3717PfZo7hqYJ6eKne8bGSZKe3Zghw2C2FAAA+IZmzZS+9tpr\n",
              "2rVrl3bt2qU77rhDkjR37lylp6frwIEDWrRokdLS0jzrN3cMTffAZfHyt1v1Vc4pfXG4yOw4AAAA\n",
              "F6RVdt/n5+drx44duueeeyRJt956q3Jzc5WRkdHsscbU1NSotLTU6+ZycV7OM0UGB2r6qBhJ0rMb\n",
              "M01OAwAAcGGaVUpnzpypoUOHatasWTp58qRyc3MVFRUlu90uqf7yl7GxscrJyWn2WGOWLFmikJAQ\n",
              "r9u2bdua8xQ6tLkT+slqkTYfOKlvjpaYHQcAAOBHNbmUbt68WV9//bW+/PJLhYeH67777rsYuRq1\n",
              "ePFilZSUeN1SU1Pb7PF9RWyPIP1keG9J0nObmC0FAADtn72pd4iNjZUk+fn56aGHHlJSUpL69Omj\n",
              "vLw8OZ1O2e12GYahnJwcxcbGyuFwNGusMQEBAQoICPBaZrPZmvG0O775k/rp7V3H9H978nS4oEJ9\n",
              "w7uaHQkAAOCcmjRTWlFRoVOnTnm+fvXVVzVixAhFRkZq5MiRWrt2rSRp/fr1iomJUWJiYrPH0DID\n",
              "ezk0ZWCk3Ia0nNlSAADQzlmMJpw36NChQ7r11lvlcrlkGIYSEhL01FNPKT4+Xvv371daWpoKCwvl\n",
              "cDi0cuVKDR06VJKaPXYhFi5cqKVLlzbxaXcOO7KKdNuyrfKzWfTpL6eoV0ig2ZEAAAAa1aRS2h5R\n",
              "Ss/v9mVbtS2rSHMu76tfXz/Y7DgAAACN4opOHdz8Sf0kSS9/kaNTlbUmpwEAAGgcpbSDmzQgQoOi\n",
              "HKqsdemlz7LNjgMAANAoSmkHZ7FYPLOlqz47rMpap8mJAAAAzkYp7QSuS+6l2LAgFVfW6W/bcs2O\n",
              "AwAAcBZKaSdgt1k1d2KCJOmFTw+p1uk2OREAAIA3SmkncevIGEUEByivpFpv7zpqdhwAAAAvlNJO\n",
              "ItDPplmX9ZUkLduUKbfbp88EBgAAOhhKaSdy9yWxcgTalXmyQh9+e9zsOAAAAB6U0k4kONBPM8fF\n",
              "S5Ke3ZgpH79uAgAA6EAopZ3M/ZfGK9DPqq+PlOizzEKz4wAAAEiilHY6PboF6I7RfSRJz27MMDkN\n",
              "AABAPUppJzRnQoLsVov+lVGo3bmnzI4DAABAKe2MYroH6caU3pKk5zZmmpwGAACAUtppzZtYf+nR\n",
              "D749roz8cpPTAACAzo5S2kkl9QzWVYN7yjDqz1sKAABgJkppJzZ/Uv1s6VtfHdWxU1UmpwEAAJ0Z\n",
              "pbQTGxnbXWMTwuR0G3rh00NmxwEAAJ0YpbSTWzApUZL0t225KqqoNTkNAADorCilndzl/cOVHO1Q\n",
              "VZ1Lq/512Ow4AACgk6KUdnIWi8UzW/rS1myV1zhNTgQAADojSik0dUgvJYR3VUlVnV79IsfsOAAA\n",
              "oBOilEI2q0VzJyZIkv665ZBqnC6TEwEAgM6GUgpJ0s0jotXLEagTpTV688ujZscBAACdDKUUkqQA\n",
              "u02zL+8rSVq++ZBcbsPkRAAAoDOhlMLjrtRYhQb56XBBhf7vmzyz4wAAgE6EUgqPrgF23TcuXpL0\n",
              "3MZMGQazpQAAoG1QSuElbXy8uvjZtPdYqTYfLDA7DgAA6CQopfDSvau/7kqNlSQ9uyHD5DQAAKCz\n",
              "aHYpXblypSwWi9566y1JUn5+vq655hr1799fycnJ2rx5s2fd5o7BHHMm9JWfzaIvDhdpZ3ax2XEA\n",
              "AEAn0KxSmpWVpRdeeEFjx471LHv44Yc1duxYHTx4UCtXrtSMGTNUV1fXojGYIyqki25OiZZUf2wp\n",
              "AADAxdbkUup2uzV79mw988wzCggI8Cxft26d5s2bJ0kaM2aMevfurU2bNrVoDOaZN6mfLBbpo30n\n",
              "tP94mdlxAABAB9fkUrp06VJdeumlGjVqlGdZYWGh6urq1KtXL8+y+Ph45eTkNHusMTU1NSotLfW6\n",
              "uVxcfehi6BfRTdcMqX9dlm1ithQAAFxcTSql33zzjdavX6/f/OY3FyvPeS1ZskQhISFet23btpmS\n",
              "pTOYP6mfJOmd3ceUW1RpchoAANCRNamUfvrpp8rKylL//v0VHx+vzz//XOnp6Vq3bp3sdruOHz/u\n",
              "WTcrK0uxsbHq0aNHs8Yas3jxYpWUlHjdUlNTm/qccYGGxYTqssRwudyGXvj0kNlxAABAB9akUjp/\n",
              "/nzl5eUpKytLWVlZGjt2rJ5//nnNnz9f06dP17JlyyRJ27dv19GjRzVx4kRJavbYDwUEBMjhcHjd\n",
              "bDZb8545LsiChtnS17bn6mRZjclpAABAR2VvrQ09/vjjuvfee9W/f3/5+/tr7dq18vPza9EYzDeu\n",
              "Xw8N7xOq3bmntOqzw/rF1IFmRwIAAB2QxfDxa0kuXLhQS5cuNTtGh/b+N8c1b+1OBQfa9dnDUxQc\n",
              "yC8NAACgdXFFJ/yoqwf3VGJkN5VVO7X288bPjAAAANASlFL8KKvVonkT648tXbHlsKrrOA0XAABo\n",
              "XZRSXJAbh/dW75BAFZTX6O87j5gdBwAAdDCUUlwQf7tVcyYkSJKWb86U0+U2OREAAOhIKKW4YHeO\n",
              "iVVYV3/lFlXp3T15ZscBAAAdCKUUF6yLv01p4+MlSc9tzJSPn7gBAAC0I5RSNMl94+LV1d+m746X\n",
              "acP+fLPjAACADoJSiiYJCfLT3WPjJEnPbsg0OQ0AAOgoKKVoslmX9ZW/zaod2cXanlVkdhwAANAB\n",
              "UErRZD0dgbp1VLQk6dkNGSanAQAAHQGlFM0yd0I/WS3Shv0n9e2xUrPjAAAAH0cpRbPEh3fVdUOj\n",
              "JEnPbeLYUgAA0DKUUjTb6UuPvvv1MWUXVpicBgAA+DJKKZotOTpEE5Mi5Dak5ZsPmR0HAAD4MEop\n",
              "WmTBpPrZ0r/vOKL80mqT0wAAAF9FKUWLpPYN08jYUNW63Frxr8NmxwEAAD6KUooWsVgsWjApUZL0\n",
              "8uc5KqmqMzkRAADwRZRStNiUgZEa0DNY5TVOrdmaZXYcAADggyilaDGr1aL5DceWrvxXlqpqXSYn\n",
              "AgAAvoZSilZxw7AoxXTvosKKWq3bkWt2HAAA4GMopWgVdptVcyckSJKe33xIdS63yYkAAIAvoZSi\n",
              "1Uwf3Ufh3fx19FSV3tl1zOw4AADAh1BK0WoC/Wy6/9K+kqRlmzLldhsmJwIAAL6CUopWde+4OAUH\n",
              "2HUwv1wf7TthdhwAAOAjKKVoVY5AP90zLk6S9OzGTBkGs6UAAODHUUrR6u6/NF7+dqt25Z7S54eK\n",
              "zI4DAAB8AKUUrS4yOFC3j46RJD27McPkNAAAwBdQSnFRzJ3QTzarRZ8eLNCeIyVmxwEAAO0cpRQX\n",
              "RZ+wIN0wLEpS/SfxAQAAzqfJpfTqq6/WsGHDlJKSossvv1xfffWVJOngwYMaP368kpKSNGbMGO3d\n",
              "u9dzn+aOwbedvvToe9/k6dDJcpPTAACA9qzJpXTdunX6+uuvtWvXLi1cuFBpaWmSpLlz5yo9PV0H\n",
              "DhzQokWLPMtbMgbfNrCXQ1cMjJRhSMs3HTI7DgAAaMeaXEpDQ0M9fy8pKZHFYlF+fr527Nihe+65\n",
              "R5J06623Kjc3VxkZGc0eQ8ewYHL9bOkbXx1RXkmVyWkAAEB7ZW/OnWbOnKkNGzZIkt577z3l5uYq\n",
              "KipKdnv95iwWi2JjY5WTk6OQkJBmjSUmJp71uDU1NaqpqfFa5nK5mvMU0EZGxYUpNT5M27KKtOLT\n",
              "w/rNDYPNjgQAANqhZn3QafXq1crNzdUf/vAHLVq0qLUzndOSJUsUEhLiddu2bVubPT6aZ37DbOkr\n",
              "23JUXFFrchoAANAetejT9/fdd582bNigmJgY5eXlyel0SpIMw1BOTo5iY2PVp0+fZo01ZvHixSop\n",
              "KfG6paamtuQpoA1MSorQoCiHKmtdemlrltlxAABAO9SkUnrq1CkdO3bM8/Vbb72lHj16KDIyUiNH\n",
              "jtTatWslSevXr1dMTIwSExObPdaYgIAAORwOr5vNZmvWE0fbsVgsnk/ir/osS5W1TpMTAQCA9sZi\n",
              "NOHi5NnZ2Zo+fbqqqqpktVoVERGhJ554QikpKdq/f7/S0tJUWFgoh8OhlStXaujQoZLU7LELsXDh\n",
              "Qi1durSJTxttzely64qlm5RdWKnf3jBYsy7ra3YkAADQjjSplLZHlFLf8coXOfrVm3sUFRKoTb+Y\n",
              "LH87124AAAD1aAVoM9NGRisiOEB5JdV6a9dRs+MAAIB2hFKKNhPoZ9Psht32yzZlyuX26Ul6AADQ\n",
              "iiilaFMzLomVI9CuQycr9OHe42bHAQAA7QSlFG0qONBPM8fFS5Ke3ZgpHz+kGQAAtBJKKdrc/ZfG\n",
              "K9DPqj1HS/SvjEKz4wAAgHaAUoo216NbgO4cU3+BhGc3ZpicBgAAtAeUUphi9uV9Zbda9FlmoXbl\n",
              "njI7DgAAMBmlFKaI6R6kG1N6S5KeY7YUAIBOj1IK08yfWH/p0Q/2nlBGfpnJaQAAgJkopTBN/57B\n",
              "unpwT0nScxsPmZwGAACYiVIKU82fVD9b+vauozp6qsrkNAAAwCyUUphqRGx3jUvoIafb0AubmS0F\n",
              "AKCzopTCdAsm18+W/m17jgrLa0xOAwAAzEAphekuSwxXcrRD1XVurfosy+w4AADABJRSmM5isWjB\n",
              "pERJ0kufZam8xmlyIgAA0NYopWgXpg7ppYTwriqtduqVL7LNjgMAANoYpRTtgs1q0byG85b+9dPD\n",
              "qnG6TE4EAADaEqUU7cbNI6LVyxGo/LIavfHlUbPjAACANkQpRbvhb7dq9uV9JUnLN2XK5TZMTgQA\n",
              "ANoKpRTtyl2psQoN8lNWYaXe25NndhwAANBGKKVoV7oG2HXfuHhJ0nMbM2UYzJYCANAZUErR7qSN\n",
              "j1eQv03f5pVq04GTZscBAABtgFKKdqd7V3/dlRorSXp2Y6bJaQAAQFuglKJdmn15X/nZLNp2uEg7\n",
              "s4vMjgMAAC4ySinapaiQLrplRLSk+mNLAQBAx0YpRbs1d2I/WSzSR/vytf94mdlxAADARUQpRbvV\n",
              "L6KbrhnSS5L03MYMk9MAAICLiVKKdm3BpERJ0j++zlNuUaXJaQAAwMVCKUW7NjQmRJf3D5fLbej5\n",
              "zYfMjgMAAC6SJpXS6upq3XzzzUpKStLw4cN11VVXKSOjfrdqfn6+rrnmGvXv31/JycnavHmz537N\n",
              "HQMkaf6kfpKkdTtydbKsxuQ0AADgYmjyTGl6err279+v3bt366abbtLs2bMlSQ8//LDGjh2rgwcP\n",
              "auXKlZoxY4bq6upaNAZI0riEHhreJ1Q1TrdW/uuw2XEAAMBF0KRSGhgYqOuuu04Wi0WSNHbsWGVl\n",
              "ZUmS1q1bp3nz5kmSxowZo969e2vTpk0tGgMkyWKxaEHDbOmardkqreaXFgAAOpoWHVP61FNP6aab\n",
              "blJhYaHq6urUq1cvz1h8fLxycnKaPdaYmpoalZaWet1cLldLngJ8xFWDeioxspvKapxa+3m22XEA\n",
              "AEAra3Ypfeyxx5SRkaElS5a0Zp7zWrJkiUJCQrxu27Zta7PHh3msVovmTayfLX1xy2FV1/HLCAAA\n",
              "HUmzSukTTzyhN954Q//3f/+noKAg9ejRQ3a7XcePH/esk5WVpdjY2GaPNWbx4sUqKSnxuqWmpjbn\n",
              "KcAH3ZTSW9GhXVRQXqvXdx4xOw4AAGhFTS6lS5cu1auvvqp//vOfCg0N9SyfPn26li1bJknavn27\n",
              "jh49qokTJ7Zo7IcCAgLkcDi8bjabralPAT7Kz2bVnMv7SpKe35wpp8ttciIAANBa7E1Z+ciRI/r3\n",
              "f/93JSQkaPLkyZLqi+IXX3yhxx9/XPfee6/69+8vf39/rV27Vn5+fpLU7DHgh+4YE6unP8lQblGV\n",
              "/vfrPN08ItrsSAAAoBVYDMMwzA7REgsXLtTSpUvNjoE29MzHB/Vf/zygAT2D9f5Dl3vOBgEAAHwX\n",
              "V3SCz5k5Ll5d/W3af6JMn3yXb3YcAADQCiil8DkhQX66Z2ycJOnZjZny8cl+AAAgSil81AOX9ZW/\n",
              "zaqd2cXanlVsdhwAANBClFL4pJ6OQN06KkaS9OzGDJPTAACAlqKUwmfNnZAgq0XauP+k9h4rMTsO\n",
              "AABoAUopfFZ8eFddNzRKkvTcxkyT0wAAgJaglMKnzZ9Uf+nR9/bkKaugwuQ0AACguSil8GlDeodo\n",
              "0oAIuQ1p+eZDZscBAADNRCmFz5s/sX62dP3OIzpRWm1yGgAA0ByUUvi81L5hGhXXXbUut17cctjs\n",
              "OAAAoBkopfB5FotFCxqOLV37ebZKKutMTgQAAJqKUooOYfKASA3oGayKWpdWb80yOw4AAGgiSik6\n",
              "BKvV4vkk/srPslRV6zI5EQAAaApKKTqMG4ZFqU9YFxVV1Oq17TlmxwEAAE1AKUWHYbdZlT6hfrb0\n",
              "hU8Pq87lNjkRAAC4UJRSdCjTR8UovJu/jp6q0tu7jpkdBwAAXCBKKTqUQD+bHrisryRp2aZMud2G\n",
              "yYkAAMCFoJSiw7lnbJyCA+zKyC/XP/edMDsOAAC4AJRSdDiOQD/dMy5OkvTsxkwZBrOlAAC0d5RS\n",
              "dEgPXNpXAXarduee0tZDhWbHAQAAP4JSig4pIjhAt4/uI0l6bmOmyWkAAMCPoZSiw0qfkCCb1aJP\n",
              "DxZoz5ESs+MAAIDzoJSiw+oTFqSfDIuSJD23KcPkNAAA4HwopejQ5jVcevT/vjmuzJPlJqcBAADn\n",
              "QilFhzawl0NXDIyUYUjLN3FsKQAA7RWlFB3egsn1s6VvfnVUeSVVJqcBAACNoZSiwxsVF6bUvmGq\n",
              "cxn666eHzY4DAAAaQSlFp7Cg4djSV7flqLii1uQ0AADghyil6BQmJkVocJRDlbUuPfzG1/ro2xOU\n",
              "UwAA2pEmldKf/exnio+Pl8Vi0a5duzzLDx48qPHjxyspKUljxozR3r17WzwGtCaLxaIHpyRKkj7Y\n",
              "e0KzV+/QiP/8p674r41a9PevtW5Hrg6dLOeSpAAAmKRJpfS2227Tli1bFBcX57V87ty5Sk9P14ED\n",
              "B7Ro0SKlpaW1eAxobdcNjdILM0fr9tEx6hfRVZKUebJCr+3I1S///rWm/Ncmjf7DR5qzeoeWb8rU\n",
              "jqwi1ThdJqcGAKBzsBjNmBqKj4/XW2+9pZSUFOXn5ysxMVFFRUWy2+0yDENRUVHasmWLHA5Hs8YS\n",
              "ExMvOMvChQu1dOnSpj4FQEUVtfoyu1g7sou1M7tIu4+UqNbp9lrH32bV0JgQjY7rrlENtx7dAkxK\n",
              "DABAx2Vv6QZyc3MVFRUlu71+UxaLRbGxscrJyVFISEizxs5VSmtqalRTU+O1zOViJgvNE9bVX1cO\n",
              "7qkrB/eUJNU4XfrmaKl2ZhdpR1axdmYXq7CiVjuz6/9+WkJ4V42K667R8d01Ki5M/SK6ymKxmPU0\n",
              "AADoEFpcStvSkiVL9Pvf/95r2dixY01Kg44mwG7zzIamT5AMw1BWYaV2ZBVpZ8OMakZ+uQ4VVOhQ\n",
              "QYVe33lEktQ9yK/hfmEaHd9dQ6NDFOhnM/nZAADgW1pcSvv06aO8vDw5nU7PbvicnBzFxsbK4XA0\n",
              "a+xcFi9erIULF3ot++1vf9vSpwA0ymKxqG94V/UN76rpo/tIkk5V1urLnGLtyKovqbtzT6m4sk4f\n",
              "7cvXR/vyJdXv8k+OdngV1XB2+QMAcF4tLqWRkZEaOXKk1q5dq7S0NK1fv14xMTGeXfDNHWtMQECA\n",
              "AgK8/3O32ZiRQtsJDfLXlIE9NWVg/S7/Wqdbe4+V1M+kNhTVgvIafZlzSl/mnNILDSfrj+8R5Cmo\n",
              "o+O6q19EN1mt7PIHAOC0Jn3Qae7cuXr33Xd1/Phx9ejRQ8HBwcrIyND+/fuVlpamwsJCORwOrVy5\n",
              "UkOHDpWkZo9dKD7ohPbEMAzlFFV6CurO7CIdOFF+1nohXfw8hwqMjuuu4X1C2eUPAOjUmvXp+/aE\n",
              "Uor2rqSyrn6Xf8MHqHYfOaXqOu9P+fvZLBrSu/5T/qPju2tkXHdFBgealBgAgLbnUx90AnxRSJCf\n",
              "Jg+M1OSBkZKkOpdb3x4r9cyk7sgqVn5ZjXblntKu3FP665b6Xf6xYUH1p6KK767RcWHqH8kufwBA\n",
              "x0UpBdqYn82q4X1CNbxPqGZd1leGYehIcZVnJnVndrH2nyhTTlGlcooq9cZXRyVJjkC7Rjbs7h8V\n",
              "F6aUPqHq4s8ufwBAx0ApBUxmsVjUJyxIfcKCdMuIGElSSVWdvsop9nyAalfuKZVWO7Vx/0lt3H9S\n",
              "kmS3WjSkt8PrA1SRDnb5AwB8E6UUaIdCuvhp0oBITRrw/S7/7/LK6mdTs4u1M6tYx0urtftIiXYf\n",
              "KdGL/6rf5d8nrItGx4V5ZlSTegbLxi5/AIAPoJQCPsCv4XKnQ2NCdP+l9bv8j56q8joV1f7jpcot\n",
              "qlJu0VG92bDLPzjArhENBXV0XHelxIYqyJ+3PQCg/eF/J8AHWSwWxXQPUkz3IN2UEi1JKquu01c5\n",
              "pzwfoPoq55TKapzafOCkNh+o3+Vvs1o0OMrhuUzq6Lgw9Qphlz8AwHyUUqCDCA7004SkCE1IipAk\n",
              "OV1ufXe8zHOJ1J1ZRTpWUq09R0u052iJVn2WJUmKDu3iOSZ1VFyYBvRilz8AoO1RSoEOym6zKjk6\n",
              "RMnRIbpvfLwk6dipKk9B3ZFdrH15pTp6qkpHd1Xp7V3HJEndAuwaERvacGL/MKXEhqpbAD8qAAAX\n",
              "F//TAJ1I79AuujG0i24c3luSVF7j1K6cU9qRXaSd2cX6KueUymuc+vRggT49WCBJslqkQVGOhnOm\n",
              "hml0XHf1Du1i5tMAAHRAlFKgE+sWYNdl/cN1Wf9wSZLLbei746Xamf396aiOnqrS3mOl2nusVC9t\n",
              "zZYk9Q4J9BTUUXHdNbBXsOw2q5lPBQDg4yilADxs1vrLnQ7pHaKZ4+IlSXkl33/Kf2d2sb7NK9Wx\n",
              "kmod231M/9hdv8u/q79NI2K7e05FNSI2VMGBfiY+EwCAr6GUAjivqJAuumFYF90wrH6Xf0WNU7tz\n",
              "6z/lvyO7WF9lF6usxqktGQXakvH9Lv8Bvep3+Y+Or59NjQ7tIouFD1ABABpHKQXQJF0D7BqfGK7x\n",
              "id/v8j9woszrA1RHiqu0L69U+/JKtebz+l3+vRyBGhV/+pypYRoUxS5/AMD3KKUAWsRmtWhQlEOD\n",
              "ohy6d2ycJOlEafUZu/yLtPdYqY6XVuvdr/P07td5kqQgf5tS+oR6PkA1IjZUDnb5dxiGYcjpNuR0\n",
              "Gap1ueV0ueV0G6p1uuVvtyoyOICZcwBeKKUAWl1PR6CuGxql64ZGSZKqal3alXtKOxsuk/pldrFK\n",
              "q536LLNQn2UWSpIsFmlAz2CvE/vHdGeXv8ttqM7lVp3LLaer4e9uQ3VOt5xut+pOL2v407NOwzKn\n",
              "261aZ30h9F7PrVqXIecZ657rMc6/nlt1zsYf53y6+tvUN6KrEsK7qV9ENyVEdK2/hXdTF39bG/3r\n",
              "AmhPLIZhnP8nRzu3cOFCLV261OwYAJrA7TZ0ML+8/lRUDZdJzSmqPGu9yOCAhmNS6z/pP7i3Q37N\n",
              "2OVvGIZXmap1NRQ6p1Ffqs5c3lDAaptT0E5/7XartqGo/XC907OGdWeUR2fD9uvcZ6/n9umf0N7s\n",
              "Vov8bFbVutxyneeJRYd2aSioXdUvspsSwutLa1RIYKf/JQXoyCilANqF/LJqfdmwy39HdrH2His5\n",
              "a7ati59NQ3o7ZLdZGimCRsNM3Q8Kn6t+N3JHYbFIfjar/G1W2W31Jc/PapGf3eopffU3i+w/XK/h\n",
              "T7vVKn+7RXar1Xv5D9ezWeVva1jP3vA4Dev5N4z72b5/zO+Xn85llZ/ncSyeQlnnciunqFKZ+eU6\n",
              "VFChQyfLdehkhTJPlqu4su6cz72Ln61hRrXbGYW1foY1yJ8df4Cvo5QCaJeq61yeT/mfPm9qSdW5\n",
              "C0tTfV/QLPK3WxuKl6W+SDWxoDW6nu0Hhe/Mx/lBkWu0LDb6GNYOfwnY4opaHSooV2Z+hTIL6svq\n",
              "oZPlyi6sPO8vF1Ehgd8fBhBeX1z7RXZTlCNQ1g7+bwZ0FPxqCaBdCvSz6ZKEHrokoYek+l3+mSfL\n",
              "te94mSySVwn0Knme8nfuWUO71cJu4Haqe1d/jeoaplFxYV7L61xu5RZVemZUD52sqC+vJytUVFGr\n",
              "vJJq5ZVUe05Ldlqgn1V9w7upX8MMa7+G41YTIrqqK5fPBdoV3pEAfILValH/nsHq3zPY7CgwgZ/N\n",
              "Wr/bPqKbrlRPr7FTlbXKbJhRPf3noYIKZRdWqLrO7Tk92Q/1cgQqIaLrGR+0qj8cIDq0C7OrgAko\n",
              "pQAAnxYa5K9Rcf4aFdfda7nT5VZucZXXMaunZ1gLymt1vLRax0urPWeAOC3Qz6r4Ht+X1TNLazdm\n",
              "V4GLhncXAKBDstus6hveVX3Du+qKQd5jJZV1Xsesni6s2YWVqq5z67vjZfrueNlZ2+zpCPDs/j99\n",
              "OEC/iG7qHdqlwx/vC1xslFIAQKcTEuSnkbHdNTL27NnVo6eqPCU184wZ1oLyGp0orb9tPeQ9u+pv\n",
              "t3rOBHC6tJ6eYQ3mohDABaGUAgDQwG6zKq5HV8X16KopA73HSqrqdLigouFUVt8fEpBVUKla57ln\n",
              "VyOCAzwftEoIry+r/SK6Kbo7s6vAmSilAABcgJAufkrpE6qUPqFey11uQ0eLq5RZUO517tXMkxU6\n",
              "WVbjuX1+qMjrfv52q+J7BNVf1Sqyq9dhASFdmF1F50MpBQCgBWxWi2J7BCm2R5AmD4j0GiutrtPh\n",
              "06evyq/wzLAeKqhQrdOtAyfKdeBEubTXe5vh3QIaDgE444NW4d0U072L7M24qhngCyilAABcJI5A\n",
              "Pw3vE6rhjcyuHvM6dvX7MwOcKK1RQXn9bdvhH8yu2qyK6xF0xgetGo5fDe+mkCBmV+HbKKUAALQx\n",
              "m9WiPmFB6hMWpEkDvMfKquuPXT10xrlXM0+W63BBhWqcbh3ML9fB/HJJJ7zu16Or/xmnrzo9w9pN\n",
              "fZhdhY9oF6X04MGDuu+++1RQUKCQkBCtWrVKQ4YMMTsWAABtLjjQT8NiQjUsJtRrudtt6FhJ1fcX\n",
              "CDhjhvV4abUKK2pVWFGkbVnes6t+Novienx/+dXThbVfRFeFBvm34TMDzq9dlNK5c+cqPT1daWlp\n",
              "+vvf/660tDRt377d7FgAALQbVqtFMd2DFNM9SBOTIrzGymuc3x+7esYM6+GCclXXuZWRX66MRmZX\n",
              "w7r6e84IcOa5V/uEBcmP2VW0MYthGIaZAfLz85WYmKiioiLZ7XYZhqGoqCht2bJFiYmJP3r/hQsX\n",
              "aunSpW2QFAAA3+J2G8orra4/K8DJ02cGqJ9hzSupPuf97A0f3jp9ZoB+Z5x7tXtXZldxcZg+U5qb\n",
              "m6uoqCjZ7fVRLBaLYmNjlZOTc1YprampUU1Njdcyl8vVZlkBAPAlVqtF0aFdFB3aRRN+MLtaWev0\n",
              "nAngzFNZHTpZoao6V8MxrRX6aJ/3NrsH+al7V381doZVi6Xx866e62ysja1uOcfa59j0OdZthRzn\n",
              "WLkp+c4ZuQn5zp3jXJu+sG2PjOuuX103qNF1zWJ6KW2KJUuW6Pe//73XsrFjx5qUBgAA3xXkb1dy\n",
              "dIiSo0O8lrvdho6XVnvOBvB9Ya3Q0VNVKq6sU3FlnUmp0VqCA9tfBfSp3feNzZT+9re/1VNPPdWW\n",
              "kQEA6JQqa506XFCh8mrnWWPnKhPnahlGY/c457oXvu1Gt3veHI2te45tnCNH40+liTku/J+jyfka\n",
              "Wz0i2F+j4sLOcQ9zmF6TIyMjNXLkSK1du1ZpaWlav369YmJiGj2eNCAgQAEBAV7LbDZbW0UFAKBT\n",
              "C/K3a0jvkB9fEWgG00upJC1fvlxpaWl67LHH5HA4tHLlSrMjAQAAoA21i1I6YMAAbd261ewYAAAA\n",
              "MAknIQMAAIDpKKUAAAAwHaUUAAAApqOUAgAAwHSUUgAAAJiOUgoAAADTUUoBAABgOkopAAAATEcp\n",
              "BQAAgOkshmEYZodoiWnTpik+Pr5NHsvlcmnbtm1KTU2VzWZrk8dE6+I19G28fr6P19D38Rr6PjNe\n",
              "w7i4OP385z8/7zo+X0rbUmlpqUJCQlRSUiKHw2F2HDQDr6Fv4/XzfbyGvo/X0Pe119eQ3fcAAAAw\n",
              "HaUUAAAApqOUAgAAwHSU0iYICAjQI488ooCAALOjoJl4DX0br5/v4zX0fbyGvq+9voZ80AkAAACm\n",
              "Y6YUAAAApqOUAgAAwHSUUgAAAJiuQ5XS+Ph4DRgwQCkpKZ7bnj17zI6Fi+j06zx48GDZbDbP13fc\n",
              "cYfZ0XxeR38//exnP1N8fLwsFot27drlNXbw4EGNHz9eSUlJGjNmjPbu3WtOyIskPj5ekZGRqqur\n",
              "8yzbsGGDLBaLHnrooR+9/8aNG/X+++9fxIT1ysvLNXXqVIWHhys0NNRr7IMPPvD63uzdu7dGjhx5\n",
              "0TNdTGVlZerWrZtmzZp13vX+4z/+Q48++uiPbm/VqlW6+eabJUlZWVlatmxZK6S8MJMmTdJbb73V\n",
              "pPts375d48ePV1BQkCf3aVVVVZo5c6aSk5OVnJysG2+8USdPnmy9wO2YxWLRqVOnvJbFx8ef9XOr\n",
              "pVr6PRIeHq6srKwWZehQpVSSXnvtNe3atctzGzp0aIu36Xa75Xa7WyEdWtvp1/m9995TcHCw5+vX\n",
              "XnvN7GgdwsV4P0nt4z112223acuWLYqLiztrbO7cuUpPT9eBAwe0aNEipaWlNbqNSZMmtfiHsFli\n",
              "Y2P1zjvveL5esWKFRo8efUH3bUkpdTqdF7yun5+fFi1apI8++uissalTp3p9b44cOVJ33313o9tp\n",
              "q0tRt9Rrr72mUaNG6Y033lB5eXmrbrutS2lzREVF6b//+7/15JNPnjW2fPlyVVZWas+ePfrmm2/U\n",
              "s2dP/fnPfz5rvaysLE2aNKkN0vqeH3vvtYfvkQ5XSn/oj3/8ox588EHP1+Xl5QoLC/P8hvXEE08o\n",
              "NTVVI0eO1DXXXKPs7GxJ0qOPPqpbb71VU6dOVXJystasWaOrr77asx2Xy6W4uDh9++23kqQ///nP\n",
              "GjJkiIYOHaq7775bJSUlnu3ccccd+slPfqLBgwdrypQpKioq8mznXI+Plvnggw902WWXadSoUUpN\n",
              "TdWGDRs8Y2vWrNEll1yikSNHasKECdq9e7ek+lmFK6+8UnfddZeGDh2q0aNH69ChQ2Y9hXaro7yn\n",
              "JkyYoJiYmLOW5+fna8eOHbrnnnskSbfeeqtyc3OVkZHRkn+2duf+++/Xiy++KEkqKSnR559/rmuu\n",
              "ucYzvmfPHl122WUaOXKkBg8erD/84Q+S6n8RXLZsmV5++WWlpKTo//2//6esrCyvmczy8nJZLBbP\n",
              "1xaLRY888ojGjBmjxYsXq6ysTHPmzFFqaqqGDRum9PR01dbWnpUxICBAU6ZMOWuW9IeOHTumjz/+\n",
              "WPfee28L/kXMt2LFCi1atEgTJkzw+sU6Ly9PU6dO1eDBg3XllVfqyJEjnrFHH33Ua3b7L3/5S6O/\n",
              "RM2bN0/79+9XSkqKbrzxRrndbj344IMaNGiQhg8frlGjRqm6uvqs++Xn52vatGkaOnSokpOTtXz5\n",
              "cs9YfHy8fve732ncuHHq27ev53vkTMeOHVPPnj1VWVnpWTZjxgw999xzZ60bExOj1NTURk9TZLFY\n",
              "VFlZqbq6OjmdTpWXlzf6/u2Mzvc6TJo0ST/72c80btw4XX311XI6nZo6dapGjx6tIUOGaMaMGaqo\n",
              "qJB09veIVL/X6Prrr9eYMWM0bNgw/eUvf/Fs+5133tGgQYM0bNgw/fKXv2ydJ2N0IHFxcUZSUpIx\n",
              "fPhwzy0nJ8eIiIgwqqurDcMwjBdffNGYNm2aYRiG8fLLLxuzZ882nE6nYRiGsXr1auO6664zDMMw\n",
              "HnnkESMqKso4fvy4YRiG4XQ6jbi4OOO7774zDMMw3njjDWPKlCmGYRjGe++9ZwwcONAoLi42DMMw\n",
              "5syZY8ybN8+znbi4OKOgoMAwDMO44447jMcee+xHHx9Nc/jwYSMkJMQwDMPIzMw0xo4da5SUlBiG\n",
              "YRgHDx40evXqZVRXVxtbtmwxrr32Ws/3w+bNm43BgwcbhmEYK1euNBwOh3Ho0CHDMAxj0aJFRnp6\n",
              "ets/mXaisfdTZWVlh3tPxcXFGV999ZXn6x07dhhJSUle64wZM8b4+OOPz7rvxIkTjcOHD//Iv2T7\n",
              "c/o5Dx482Dh69Kjx3HPPGQ8//LDxyCOPGD//+c8NwzCM0tJSz2tcWVlppKSkGFu3bjUMw/BazzC8\n",
              "33+GYRhlZWXGmf+9SDJ+//vfe76eM2eO8dJLLxmGYRhut9uYNWuW8ac//emceX+4/R/64x//6Pke\n",
              "PNfzbe/27t1rREdHG06n03j77beNcePGecZuu+024ze/+Y1hGIZx5MgRIzw83HjkkUcMwzj7tXjm\n",
              "mWeM++67zzCM+p9pN910k2EYhrFhwwZj+PDhnvW+/PJLY+DAgYbL5TIMwzBOnTrl+fuZbr/9duPh\n",
              "hx82DMMwTpw4YcTExHi+D+Li4oyf/vSnhmEYxsmTJw2Hw2EcOXLEMIz698abb75pGIZhzJgxw1i+\n",
              "fLlhGIZx/PhxIyIiwigrKzvnv8WZuU+rqqoybr/9diMkJMQICwszrr322kbzHj582Jg4ceI5t+2L\n",
              "JHl+Fp525s+tH3sdpk6datTW1hqGUf9+O/2z0+12G/PmzTOWLFliGMbZ3yNOp9MYNWqUsW/fPsMw\n",
              "DKOiosIYOnSosW3bNuPEiRNGWFiYsXfvXsMwDGP58uWGpBb/PLS3TrVtP1577TWlpKR4LRsxYoTe\n",
              "eecdTZ8+XatWrdIvfvELSdJbb72l7du3a9SoUZLqZ2rOdN1116lnz56SJJvNpgULFuh//ud/9PTT\n",
              "T+t//ud/PLNFH330ke644w7Pb/Pz58/X9OnTPdu55ppr1KNHD0nSuHHjPMfl/djjo3nef/99ZWRk\n",
              "aMKECZ5lVqtVOTk5evvtt7V7925dcsklnrGioiJVVVVJkuc3zdN/f+aZZ9o2fDvT2PupT58+nfo9\n",
              "NXPmTH399deSpIyMDF133XXy9/f3PL6v7CqWpHvvvVerVq3SW2+9pZdfflkvv/yyZ6yqqkoLFizQ\n",
              "rl27ZLValZubq127dmns2LHNeqwHHnjA8/e33npLW7du1dKlSz2PZbPZmrVdwzD04osv6umnn/Za\n",
              "fuWVV6qgoEBS/Wzdmd/H27Zt87xm7cWKFSs0c+ZM2Ww2XXfddZo7d6727dunQYMG6eOPP9YTTzwh\n",
              "SYqOjvbMYrVEQkKCnE6nHnjgAU2ePFnXX3+9rNazd55+9NFH2rlzpyQpMjJS06ZN00cffeT5Ppgx\n",
              "Y4ak+uMJExISdPjwYUVHR3tt4+c//7nmzJmj9PR0vfDCC7rrrrvUrVu3JuX98MMP5Xa7dfz4cVmt\n",
              "VqWlpel3v/ud/vCHPygrK8tzDGptba1ycnI8r/ewYcO0evXqJj2Wrzhzb8T5Xod77rlHfn5+kurf\n",
              "L08++aTeffddOZ1OlZSUaPz48Y1uf//+/dq7d6/uvPNOz7KysjJ9++23ysvL07BhwzR48GBJ0qxZ\n",
              "s/TTn/60xc+pw5XSxjzwwANauXKlRo0apYyMDM8uKsMwtHjxYqWnpzd6vx++aebMmaPBgwdr5syZ\n",
              "ysjIOOcPhjO/USQpMDDQ83ebzeY5ruPHHh/NYxiGrrrqKr3yyiuNjt1333167LHHGr3vuV4reOvI\n",
              "76k+ffooLy9PTqdTdrtdhmEoJydHsbGxkuT1H9ykSZO0atUqnyqiZ5o5c6ZGjhyppKQk9e/f32vs\n",
              "V7/6lcLDw/XVV1/Jbrdr2rRpje7elSS73e71C0Bj65352huGofXr1yspKanFz2HTpk2qrq7W1KlT\n",
              "vZafeRzqxfhQSGuqq6vTmjVr5Ofn5/m5VVlZqRUrVnjK6JnOfD9cyL99Y0JCQvTNN99o06ZN2rBh\n",
              "gxYvXqzNmzcrMTHxvPe70PfimVJTUxUUFKQNGzbo+eefb/QY4R/z/PPPa8aMGZ7Hu/vuuz0/x898\n",
              "fbOyspSWlqaNGzc2+THaq4iICBUWFnodxlJQUKDIyEjP1+d7Hc58773yyiv65JNPtGnTJjkcDj39\n",
              "9NP65JNPGn1cwzAUFhbW6HvnzOPRpbO/L5qrwx9TKkk333yztm/friVLluiee+6R3W73LF+2bJnn\n",
              "eLS6ujp99dVX59xO9+7dddNNN+mWW27R3LlzPb/ZX3nllVq3bp1KS0sl1R+QfeaxcufL1ZTHx4WZ\n",
              "OnWqPvroI89sllQ/MyJJN954o9auXaucnBxJ9R+42bFjhyk5fVlHfk9FRkZq5MiRWrt2rSRp/fr1\n",
              "iomJ+dH/rH1R7969tWTJEj3++ONnjRUXFysmJkZ2u1379+/XP//5T8+Yw+HwHOMrSb169ZJhGJ7j\n",
              "gX9sZurmm2/W448/7vmPs7i4uNnH7K5YsUJpaWnNnmltD9555x0lJCTo6NGjysrKUlZWlj7//HOt\n",
              "WbNGdXV1uvLKKz3H/+bl5XkVgsTERO3YsUMul0uVlZVav359o4/xw9fs5MmTqqio0NVXX63HHntM\n",
              "8fHxntfvTFdeeaVeeOEFz33eeOMNXXXVVU1+jj//+c81c+ZMDRo0qFm/jCQkJOjDDz+UYRgyDEPv\n",
              "vvuukpOTm7wdXzR16lSvY3lXr16thIQERUVFNXlbxcXFCg8Pl8PhUFlZmVatWuUZ++H3yIABA+Rw\n",
              "OLRy5UrPsoyMDBUVFWncuHH6+uuv9d1330mSXnzxxUaPC2+qDjdTescdd6hLly6er5988klNnjxZ\n",
              "t99+u5599lnt27fPM3b33XersLBQkydPliTProwRI0acc/tz5szRqlWrNGfOHM+ya6+9Vt98843G\n",
              "jRsnq9WqYcOG6dlnn/3RrM15fPy4xMREvfLKK5o7d64qKytVW1urESNG6JVXXtHll1+uP/3pT7rl\n",
              "llvkdDpVW1ur66+//oI/ddzZnOv9FBAQ4PPvqblz5+rdd9/V8ePHNXXqVAUHB3uK0fLly5WWlqbH\n",
              "HnvsrB/KHc3999/f6PLf/OY3uvfee/XSSy+pX79+mjJlimfslltu0Zo1a5SSkqJp06bpd7/7nZ55\n",
              "5hndcMMN6tGjh2677bbzPuaTTz6phx9+WCkpKbJarbLb7frTn/7UaPEfNmyYTp48qdLSUsXExGjy\n",
              "5Mlas2aNpPoPaL3xxhs+f6qyFStWnHXmgEGDBik6Olr/+Mc/9NRTTyktLU2DBw9WdHS012sxbdo0\n",
              "vf766xo0aJBiYmI0YsQIrw8VnTZs2DANGTJEycnJSkhI0KOPPqo5c+aorq5OLpdLl156qa699tqz\n",
              "7vf0009r/vz5Gjp0qAzD0K9//Wuvw58u1G233ab58+d7fUjyh/bv368rrrhClZWVqqqqUkxMjH71\n",
              "q19pwYIFevTRR5Wenu4pogMHDvQqah3Zf//3f+uhhx7SsGHDZLVa1atXL73++uvN2tbMmTP19ttv\n",
              "a8CAAYqIiNDll1/u+TDoD79H3nnnHf3v//6vHnroIT355JNyuVwKDw/XK6+8oujoaL344ou65ZZb\n",
              "5O/v73VIVUtYGg6ixQV64okntG/fPq1YscLsKECHwHsK6Ph27NihGTNm6Lvvvmv02FVA6oAzpRfT\n",
              "kCFDZLFY2uSk0UBnwHsK6Phmz56tDz/8UH/9618ppDgvZkoBAABgOn5lAQAAgOkopQAAADAdpRQA\n",
              "AACmo5QCAADAdJRSAAAAmI5SCgAAANNRSgEAAGA6SikAAABMRykFAACA6f4/33kINl5rVM0AAAAA\n",
              "SUVORK5CYII=\n",
              "\">\n",
              "      </div>\n",
              "      <script type=\"text/javascript\">\n",
              "        (() => {\n",
              "          const chartElement = document.getElementById(\"chart-219e520a-18ec-449b-9f46-ba767aa95e33\");\n",
              "          async function getCodeForChartHandler(event) {\n",
              "            const chartCodeResponse =  await google.colab.kernel.invokeFunction(\n",
              "                'getCodeForChart', [\"chart-219e520a-18ec-449b-9f46-ba767aa95e33\"], {});\n",
              "            const responseJson = chartCodeResponse.data['application/json'];\n",
              "            await google.colab.notebook.addCell(responseJson.code, 'code');\n",
              "          }\n",
              "          chartElement.onclick = getCodeForChartHandler;\n",
              "        })();\n",
              "      </script>\n",
              "      <style>\n",
              "        .colab-quickchart-chart-with-code  {\n",
              "            display: block;\n",
              "            float: left;\n",
              "            border: 1px solid transparent;\n",
              "        }\n",
              "\n",
              "        .colab-quickchart-chart-with-code:hover {\n",
              "            cursor: pointer;\n",
              "            border: 1px solid #aaa;\n",
              "        }\n",
              "      </style>"
            ]
          },
          "metadata": {}
        }
      ]
    },
    {
      "source": [
        "from matplotlib import pyplot as plt\n",
        "df1['Your Counts'].plot(kind='line', figsize=(8, 4), title='Your Counts')\n",
        "plt.gca().spines[['top', 'right']].set_visible(False)"
      ],
      "cell_type": "code",
      "metadata": {
        "colab": {
          "base_uri": "https://localhost:8080/",
          "height": 391
        },
        "id": "sAoWnjd6akU_",
        "outputId": "74faf935-6844-4d0d-87d1-5cd63db69f08"
      },
      "execution_count": 121,
      "outputs": [
        {
          "output_type": "display_data",
          "data": {
            "text/plain": [
              "<Figure size 800x400 with 1 Axes>"
            ],
            "image/png": "[encoded data removed]"
          },
          "metadata": {}
        }
      ]
    },
    {
      "cell_type": "code",
      "source": [],
      "metadata": {
        "id": "2dMalKfnZx3I"
      },
      "execution_count": null,
      "outputs": []
    }
  ]
}
